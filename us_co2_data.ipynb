{
 "cells": [
  {
   "cell_type": "markdown",
   "id": "348a9162",
   "metadata": {},
   "source": [
    "# US CO2 DATA"
   ]
  },
  {
   "cell_type": "code",
   "execution_count": 1,
   "id": "45b571f4",
   "metadata": {},
   "outputs": [],
   "source": [
    "# imports\n",
    "import pandas as pd\n",
    "import numpy as np\n",
    "import os\n",
    "\n",
    "from datetime import datetime\n",
    "from sklearn.metrics import mean_squared_error\n",
    "from math import sqrt\n",
    "\n",
    "import matplotlib.pyplot as plt\n",
    "%matplotlib inline\n",
    "import seaborn as sns\n",
    "from pandas.plotting import register_matplotlib_converters\n",
    "\n",
    "from matplotlib.ticker import StrMethodFormatter\n",
    "from matplotlib.dates import DateFormatter\n",
    "\n",
    "import statsmodels.api as sm\n",
    "from statsmodels.tsa.api import Holt\n",
    "\n",
    "import warnings\n",
    "warnings.filterwarnings(\"ignore\")"
   ]
  },
  {
   "cell_type": "code",
   "execution_count": 2,
   "id": "6ac6cda6",
   "metadata": {},
   "outputs": [],
   "source": [
    "df = pd.read_csv('annual-co2-emissions-per-country.csv')"
   ]
  },
  {
   "cell_type": "code",
   "execution_count": 3,
   "id": "4d02d64f",
   "metadata": {},
   "outputs": [
    {
     "data": {
      "text/html": [
       "<div>\n",
       "<style scoped>\n",
       "    .dataframe tbody tr th:only-of-type {\n",
       "        vertical-align: middle;\n",
       "    }\n",
       "\n",
       "    .dataframe tbody tr th {\n",
       "        vertical-align: top;\n",
       "    }\n",
       "\n",
       "    .dataframe thead th {\n",
       "        text-align: right;\n",
       "    }\n",
       "</style>\n",
       "<table border=\"1\" class=\"dataframe\">\n",
       "  <thead>\n",
       "    <tr style=\"text-align: right;\">\n",
       "      <th></th>\n",
       "      <th>Entity</th>\n",
       "      <th>Code</th>\n",
       "      <th>Year</th>\n",
       "      <th>Annual CO2 emissions</th>\n",
       "    </tr>\n",
       "  </thead>\n",
       "  <tbody>\n",
       "    <tr>\n",
       "      <th>0</th>\n",
       "      <td>Afghanistan</td>\n",
       "      <td>AFG</td>\n",
       "      <td>1949</td>\n",
       "      <td>14656</td>\n",
       "    </tr>\n",
       "    <tr>\n",
       "      <th>1</th>\n",
       "      <td>Afghanistan</td>\n",
       "      <td>AFG</td>\n",
       "      <td>1950</td>\n",
       "      <td>84272</td>\n",
       "    </tr>\n",
       "    <tr>\n",
       "      <th>2</th>\n",
       "      <td>Afghanistan</td>\n",
       "      <td>AFG</td>\n",
       "      <td>1951</td>\n",
       "      <td>91600</td>\n",
       "    </tr>\n",
       "    <tr>\n",
       "      <th>3</th>\n",
       "      <td>Afghanistan</td>\n",
       "      <td>AFG</td>\n",
       "      <td>1952</td>\n",
       "      <td>91600</td>\n",
       "    </tr>\n",
       "    <tr>\n",
       "      <th>4</th>\n",
       "      <td>Afghanistan</td>\n",
       "      <td>AFG</td>\n",
       "      <td>1953</td>\n",
       "      <td>106256</td>\n",
       "    </tr>\n",
       "  </tbody>\n",
       "</table>\n",
       "</div>"
      ],
      "text/plain": [
       "        Entity Code  Year  Annual CO2 emissions\n",
       "0  Afghanistan  AFG  1949                 14656\n",
       "1  Afghanistan  AFG  1950                 84272\n",
       "2  Afghanistan  AFG  1951                 91600\n",
       "3  Afghanistan  AFG  1952                 91600\n",
       "4  Afghanistan  AFG  1953                106256"
      ]
     },
     "execution_count": 3,
     "metadata": {},
     "output_type": "execute_result"
    }
   ],
   "source": [
    "df.head()"
   ]
  },
  {
   "cell_type": "code",
   "execution_count": 4,
   "id": "3805adea",
   "metadata": {},
   "outputs": [],
   "source": [
    "df.rename(columns={'Entity':'country', 'Code':'code', 'Year':'year', 'Annual CO2 emissions': 'co2'}, inplace=True)"
   ]
  },
  {
   "cell_type": "code",
   "execution_count": 5,
   "id": "b5b0d76f",
   "metadata": {},
   "outputs": [],
   "source": [
    "df = df[df['country'] == \"United States\"]"
   ]
  },
  {
   "cell_type": "code",
   "execution_count": 6,
   "id": "2257ce72",
   "metadata": {},
   "outputs": [
    {
     "data": {
      "text/html": [
       "<div>\n",
       "<style scoped>\n",
       "    .dataframe tbody tr th:only-of-type {\n",
       "        vertical-align: middle;\n",
       "    }\n",
       "\n",
       "    .dataframe tbody tr th {\n",
       "        vertical-align: top;\n",
       "    }\n",
       "\n",
       "    .dataframe thead th {\n",
       "        text-align: right;\n",
       "    }\n",
       "</style>\n",
       "<table border=\"1\" class=\"dataframe\">\n",
       "  <thead>\n",
       "    <tr style=\"text-align: right;\">\n",
       "      <th></th>\n",
       "      <th>country</th>\n",
       "      <th>code</th>\n",
       "      <th>year</th>\n",
       "      <th>co2</th>\n",
       "    </tr>\n",
       "  </thead>\n",
       "  <tbody>\n",
       "    <tr>\n",
       "      <th>22088</th>\n",
       "      <td>United States</td>\n",
       "      <td>USA</td>\n",
       "      <td>1800</td>\n",
       "      <td>252816</td>\n",
       "    </tr>\n",
       "    <tr>\n",
       "      <th>22089</th>\n",
       "      <td>United States</td>\n",
       "      <td>USA</td>\n",
       "      <td>1801</td>\n",
       "      <td>267472</td>\n",
       "    </tr>\n",
       "    <tr>\n",
       "      <th>22090</th>\n",
       "      <td>United States</td>\n",
       "      <td>USA</td>\n",
       "      <td>1802</td>\n",
       "      <td>289456</td>\n",
       "    </tr>\n",
       "    <tr>\n",
       "      <th>22091</th>\n",
       "      <td>United States</td>\n",
       "      <td>USA</td>\n",
       "      <td>1803</td>\n",
       "      <td>296784</td>\n",
       "    </tr>\n",
       "    <tr>\n",
       "      <th>22092</th>\n",
       "      <td>United States</td>\n",
       "      <td>USA</td>\n",
       "      <td>1804</td>\n",
       "      <td>333424</td>\n",
       "    </tr>\n",
       "  </tbody>\n",
       "</table>\n",
       "</div>"
      ],
      "text/plain": [
       "             country code  year     co2\n",
       "22088  United States  USA  1800  252816\n",
       "22089  United States  USA  1801  267472\n",
       "22090  United States  USA  1802  289456\n",
       "22091  United States  USA  1803  296784\n",
       "22092  United States  USA  1804  333424"
      ]
     },
     "execution_count": 6,
     "metadata": {},
     "output_type": "execute_result"
    }
   ],
   "source": [
    "df.head()"
   ]
  },
  {
   "cell_type": "code",
   "execution_count": 7,
   "id": "aa24223f",
   "metadata": {},
   "outputs": [
    {
     "data": {
      "text/html": [
       "<div>\n",
       "<style scoped>\n",
       "    .dataframe tbody tr th:only-of-type {\n",
       "        vertical-align: middle;\n",
       "    }\n",
       "\n",
       "    .dataframe tbody tr th {\n",
       "        vertical-align: top;\n",
       "    }\n",
       "\n",
       "    .dataframe thead th {\n",
       "        text-align: right;\n",
       "    }\n",
       "</style>\n",
       "<table border=\"1\" class=\"dataframe\">\n",
       "  <thead>\n",
       "    <tr style=\"text-align: right;\">\n",
       "      <th></th>\n",
       "      <th>country</th>\n",
       "      <th>code</th>\n",
       "      <th>year</th>\n",
       "      <th>co2</th>\n",
       "    </tr>\n",
       "  </thead>\n",
       "  <tbody>\n",
       "    <tr>\n",
       "      <th>22303</th>\n",
       "      <td>United States</td>\n",
       "      <td>USA</td>\n",
       "      <td>2015</td>\n",
       "      <td>5412432194</td>\n",
       "    </tr>\n",
       "    <tr>\n",
       "      <th>22304</th>\n",
       "      <td>United States</td>\n",
       "      <td>USA</td>\n",
       "      <td>2016</td>\n",
       "      <td>5292267561</td>\n",
       "    </tr>\n",
       "    <tr>\n",
       "      <th>22305</th>\n",
       "      <td>United States</td>\n",
       "      <td>USA</td>\n",
       "      <td>2017</td>\n",
       "      <td>5253606130</td>\n",
       "    </tr>\n",
       "    <tr>\n",
       "      <th>22306</th>\n",
       "      <td>United States</td>\n",
       "      <td>USA</td>\n",
       "      <td>2018</td>\n",
       "      <td>5424881502</td>\n",
       "    </tr>\n",
       "    <tr>\n",
       "      <th>22307</th>\n",
       "      <td>United States</td>\n",
       "      <td>USA</td>\n",
       "      <td>2019</td>\n",
       "      <td>5284696657</td>\n",
       "    </tr>\n",
       "  </tbody>\n",
       "</table>\n",
       "</div>"
      ],
      "text/plain": [
       "             country code  year         co2\n",
       "22303  United States  USA  2015  5412432194\n",
       "22304  United States  USA  2016  5292267561\n",
       "22305  United States  USA  2017  5253606130\n",
       "22306  United States  USA  2018  5424881502\n",
       "22307  United States  USA  2019  5284696657"
      ]
     },
     "execution_count": 7,
     "metadata": {},
     "output_type": "execute_result"
    }
   ],
   "source": [
    "df.tail()"
   ]
  },
  {
   "cell_type": "code",
   "execution_count": 8,
   "id": "12afe9d1",
   "metadata": {},
   "outputs": [
    {
     "name": "stdout",
     "output_type": "stream",
     "text": [
      "<class 'pandas.core.frame.DataFrame'>\n",
      "Int64Index: 220 entries, 22088 to 22307\n",
      "Data columns (total 4 columns):\n",
      " #   Column   Non-Null Count  Dtype \n",
      "---  ------   --------------  ----- \n",
      " 0   country  220 non-null    object\n",
      " 1   code     220 non-null    object\n",
      " 2   year     220 non-null    int64 \n",
      " 3   co2      220 non-null    int64 \n",
      "dtypes: int64(2), object(2)\n",
      "memory usage: 8.6+ KB\n"
     ]
    }
   ],
   "source": [
    "df.info()"
   ]
  },
  {
   "cell_type": "code",
   "execution_count": 9,
   "id": "66c5e73a",
   "metadata": {},
   "outputs": [],
   "source": [
    "# df.co2 = df.co2.astype(float)"
   ]
  },
  {
   "cell_type": "code",
   "execution_count": 10,
   "id": "cc137c88",
   "metadata": {},
   "outputs": [],
   "source": [
    "#df['year'] = df.year\n",
    "#df['month'] = df.month\n",
    "#df['day'] = df.month\n",
    "#df['weekday'] = df.day_name()\n",
    "#df.head()"
   ]
  },
  {
   "cell_type": "code",
   "execution_count": 11,
   "id": "0b2e5b36",
   "metadata": {},
   "outputs": [],
   "source": [
    "df.year = pd.to_datetime(df.year, format='%Y')\n"
   ]
  },
  {
   "cell_type": "code",
   "execution_count": 12,
   "id": "7b0deb84",
   "metadata": {},
   "outputs": [],
   "source": [
    "df = df.set_index('year').sort_index()"
   ]
  },
  {
   "cell_type": "code",
   "execution_count": 13,
   "id": "2694373d",
   "metadata": {},
   "outputs": [
    {
     "name": "stdout",
     "output_type": "stream",
     "text": [
      "<class 'pandas.core.frame.DataFrame'>\n",
      "DatetimeIndex: 220 entries, 1800-01-01 to 2019-01-01\n",
      "Data columns (total 3 columns):\n",
      " #   Column   Non-Null Count  Dtype \n",
      "---  ------   --------------  ----- \n",
      " 0   country  220 non-null    object\n",
      " 1   code     220 non-null    object\n",
      " 2   co2      220 non-null    int64 \n",
      "dtypes: int64(1), object(2)\n",
      "memory usage: 6.9+ KB\n"
     ]
    }
   ],
   "source": [
    "df.info()"
   ]
  },
  {
   "cell_type": "code",
   "execution_count": 14,
   "id": "8d7804cf",
   "metadata": {},
   "outputs": [
    {
     "data": {
      "text/html": [
       "<div>\n",
       "<style scoped>\n",
       "    .dataframe tbody tr th:only-of-type {\n",
       "        vertical-align: middle;\n",
       "    }\n",
       "\n",
       "    .dataframe tbody tr th {\n",
       "        vertical-align: top;\n",
       "    }\n",
       "\n",
       "    .dataframe thead th {\n",
       "        text-align: right;\n",
       "    }\n",
       "</style>\n",
       "<table border=\"1\" class=\"dataframe\">\n",
       "  <thead>\n",
       "    <tr style=\"text-align: right;\">\n",
       "      <th></th>\n",
       "      <th>country</th>\n",
       "      <th>code</th>\n",
       "      <th>co2</th>\n",
       "    </tr>\n",
       "    <tr>\n",
       "      <th>year</th>\n",
       "      <th></th>\n",
       "      <th></th>\n",
       "      <th></th>\n",
       "    </tr>\n",
       "  </thead>\n",
       "  <tbody>\n",
       "    <tr>\n",
       "      <th>1800-01-01</th>\n",
       "      <td>United States</td>\n",
       "      <td>USA</td>\n",
       "      <td>252816</td>\n",
       "    </tr>\n",
       "    <tr>\n",
       "      <th>1801-01-01</th>\n",
       "      <td>United States</td>\n",
       "      <td>USA</td>\n",
       "      <td>267472</td>\n",
       "    </tr>\n",
       "    <tr>\n",
       "      <th>1802-01-01</th>\n",
       "      <td>United States</td>\n",
       "      <td>USA</td>\n",
       "      <td>289456</td>\n",
       "    </tr>\n",
       "    <tr>\n",
       "      <th>1803-01-01</th>\n",
       "      <td>United States</td>\n",
       "      <td>USA</td>\n",
       "      <td>296784</td>\n",
       "    </tr>\n",
       "    <tr>\n",
       "      <th>1804-01-01</th>\n",
       "      <td>United States</td>\n",
       "      <td>USA</td>\n",
       "      <td>333424</td>\n",
       "    </tr>\n",
       "  </tbody>\n",
       "</table>\n",
       "</div>"
      ],
      "text/plain": [
       "                  country code     co2\n",
       "year                                  \n",
       "1800-01-01  United States  USA  252816\n",
       "1801-01-01  United States  USA  267472\n",
       "1802-01-01  United States  USA  289456\n",
       "1803-01-01  United States  USA  296784\n",
       "1804-01-01  United States  USA  333424"
      ]
     },
     "execution_count": 14,
     "metadata": {},
     "output_type": "execute_result"
    }
   ],
   "source": [
    "df.head()"
   ]
  },
  {
   "cell_type": "code",
   "execution_count": 15,
   "id": "8cff739e",
   "metadata": {},
   "outputs": [
    {
     "data": {
      "text/html": [
       "<div>\n",
       "<style scoped>\n",
       "    .dataframe tbody tr th:only-of-type {\n",
       "        vertical-align: middle;\n",
       "    }\n",
       "\n",
       "    .dataframe tbody tr th {\n",
       "        vertical-align: top;\n",
       "    }\n",
       "\n",
       "    .dataframe thead th {\n",
       "        text-align: right;\n",
       "    }\n",
       "</style>\n",
       "<table border=\"1\" class=\"dataframe\">\n",
       "  <thead>\n",
       "    <tr style=\"text-align: right;\">\n",
       "      <th></th>\n",
       "      <th>country</th>\n",
       "      <th>code</th>\n",
       "      <th>co2</th>\n",
       "    </tr>\n",
       "    <tr>\n",
       "      <th>year</th>\n",
       "      <th></th>\n",
       "      <th></th>\n",
       "      <th></th>\n",
       "    </tr>\n",
       "  </thead>\n",
       "  <tbody>\n",
       "    <tr>\n",
       "      <th>2015-01-01</th>\n",
       "      <td>United States</td>\n",
       "      <td>USA</td>\n",
       "      <td>5412432194</td>\n",
       "    </tr>\n",
       "    <tr>\n",
       "      <th>2016-01-01</th>\n",
       "      <td>United States</td>\n",
       "      <td>USA</td>\n",
       "      <td>5292267561</td>\n",
       "    </tr>\n",
       "    <tr>\n",
       "      <th>2017-01-01</th>\n",
       "      <td>United States</td>\n",
       "      <td>USA</td>\n",
       "      <td>5253606130</td>\n",
       "    </tr>\n",
       "    <tr>\n",
       "      <th>2018-01-01</th>\n",
       "      <td>United States</td>\n",
       "      <td>USA</td>\n",
       "      <td>5424881502</td>\n",
       "    </tr>\n",
       "    <tr>\n",
       "      <th>2019-01-01</th>\n",
       "      <td>United States</td>\n",
       "      <td>USA</td>\n",
       "      <td>5284696657</td>\n",
       "    </tr>\n",
       "  </tbody>\n",
       "</table>\n",
       "</div>"
      ],
      "text/plain": [
       "                  country code         co2\n",
       "year                                      \n",
       "2015-01-01  United States  USA  5412432194\n",
       "2016-01-01  United States  USA  5292267561\n",
       "2017-01-01  United States  USA  5253606130\n",
       "2018-01-01  United States  USA  5424881502\n",
       "2019-01-01  United States  USA  5284696657"
      ]
     },
     "execution_count": 15,
     "metadata": {},
     "output_type": "execute_result"
    }
   ],
   "source": [
    "df.tail()"
   ]
  },
  {
   "cell_type": "code",
   "execution_count": 16,
   "id": "330b9aa0",
   "metadata": {},
   "outputs": [
    {
     "data": {
      "text/plain": [
       "country    0\n",
       "code       0\n",
       "co2        0\n",
       "dtype: int64"
      ]
     },
     "execution_count": 16,
     "metadata": {},
     "output_type": "execute_result"
    }
   ],
   "source": [
    "df.isna().sum()"
   ]
  },
  {
   "cell_type": "code",
   "execution_count": 17,
   "id": "54a6f0e7",
   "metadata": {},
   "outputs": [],
   "source": [
    "df = df.drop(['code', 'country'], axis = 1)"
   ]
  },
  {
   "cell_type": "code",
   "execution_count": 18,
   "id": "9c080af9",
   "metadata": {},
   "outputs": [
    {
     "data": {
      "text/html": [
       "<div>\n",
       "<style scoped>\n",
       "    .dataframe tbody tr th:only-of-type {\n",
       "        vertical-align: middle;\n",
       "    }\n",
       "\n",
       "    .dataframe tbody tr th {\n",
       "        vertical-align: top;\n",
       "    }\n",
       "\n",
       "    .dataframe thead th {\n",
       "        text-align: right;\n",
       "    }\n",
       "</style>\n",
       "<table border=\"1\" class=\"dataframe\">\n",
       "  <thead>\n",
       "    <tr style=\"text-align: right;\">\n",
       "      <th></th>\n",
       "      <th>co2</th>\n",
       "    </tr>\n",
       "    <tr>\n",
       "      <th>year</th>\n",
       "      <th></th>\n",
       "    </tr>\n",
       "  </thead>\n",
       "  <tbody>\n",
       "    <tr>\n",
       "      <th>1800-01-01</th>\n",
       "      <td>252816</td>\n",
       "    </tr>\n",
       "    <tr>\n",
       "      <th>1801-01-01</th>\n",
       "      <td>267472</td>\n",
       "    </tr>\n",
       "    <tr>\n",
       "      <th>1802-01-01</th>\n",
       "      <td>289456</td>\n",
       "    </tr>\n",
       "    <tr>\n",
       "      <th>1803-01-01</th>\n",
       "      <td>296784</td>\n",
       "    </tr>\n",
       "    <tr>\n",
       "      <th>1804-01-01</th>\n",
       "      <td>333424</td>\n",
       "    </tr>\n",
       "  </tbody>\n",
       "</table>\n",
       "</div>"
      ],
      "text/plain": [
       "               co2\n",
       "year              \n",
       "1800-01-01  252816\n",
       "1801-01-01  267472\n",
       "1802-01-01  289456\n",
       "1803-01-01  296784\n",
       "1804-01-01  333424"
      ]
     },
     "execution_count": 18,
     "metadata": {},
     "output_type": "execute_result"
    }
   ],
   "source": [
    "df.head()"
   ]
  },
  {
   "cell_type": "code",
   "execution_count": 19,
   "id": "b3e51bf0",
   "metadata": {},
   "outputs": [
    {
     "data": {
      "text/plain": [
       "co2    0\n",
       "dtype: int64"
      ]
     },
     "execution_count": 19,
     "metadata": {},
     "output_type": "execute_result"
    }
   ],
   "source": [
    "df.isna().sum()"
   ]
  },
  {
   "cell_type": "code",
   "execution_count": 20,
   "id": "dc905f5a",
   "metadata": {},
   "outputs": [
    {
     "data": {
      "text/plain": [
       "220"
      ]
     },
     "execution_count": 20,
     "metadata": {},
     "output_type": "execute_result"
    }
   ],
   "source": [
    "# checking the size of the data using len() function\n",
    "df_size = len(df)\n",
    "df_size"
   ]
  },
  {
   "cell_type": "code",
   "execution_count": 21,
   "id": "15f4f68c",
   "metadata": {},
   "outputs": [
    {
     "data": {
      "text/plain": [
       "110.0"
      ]
     },
     "execution_count": 21,
     "metadata": {},
     "output_type": "execute_result"
    }
   ],
   "source": [
    "# looking a half of the data .5\n",
    "len(df) * .5"
   ]
  },
  {
   "cell_type": "code",
   "execution_count": 22,
   "id": "41716861",
   "metadata": {},
   "outputs": [],
   "source": [
    "# compute num of rows that are 50% of total rows and assign to variable train_size\n",
    "train_size = int(len(df) * .5)\n",
    "\n",
    "# compute num of rows that are 30% of total rows and assign to variable validate_size\n",
    "validate_size = int(len(df) * .3)\n",
    "\n",
    "# make test_size the number of rows remaining (test_size = total # of rows - train_size - validate_size)\n",
    "test_size = int(len(df) - train_size - validate_size)\n",
    "\n",
    "# compute the row number at which the switch from validate to test happens. \n",
    "validate_end_index = train_size + validate_size"
   ]
  },
  {
   "cell_type": "code",
   "execution_count": 23,
   "id": "1592aaa3",
   "metadata": {},
   "outputs": [],
   "source": [
    "# split into train, validation, test\n",
    "train = df[: train_size]\n",
    "validate = df[train_size : validate_end_index]\n",
    "test = df[validate_end_index : ]"
   ]
  },
  {
   "cell_type": "code",
   "execution_count": 24,
   "id": "ddb18eb7",
   "metadata": {},
   "outputs": [
    {
     "name": "stdout",
     "output_type": "stream",
     "text": [
      "True\n"
     ]
    }
   ],
   "source": [
    "# sum of train, validate and test = total number of rows? \n",
    "print(len(train) + len(validate) + len(test) == len(df))"
   ]
  },
  {
   "cell_type": "code",
   "execution_count": 25,
   "id": "c97046b3",
   "metadata": {},
   "outputs": [
    {
     "name": "stdout",
     "output_type": "stream",
     "text": [
      "             co2\n",
      "year            \n",
      "1800-01-01  True\n"
     ]
    }
   ],
   "source": [
    "# test the row starts\n",
    "print(df.head(1) == train.head(1))"
   ]
  },
  {
   "cell_type": "code",
   "execution_count": 26,
   "id": "9cf34806",
   "metadata": {},
   "outputs": [
    {
     "data": {
      "text/html": [
       "<div>\n",
       "<style scoped>\n",
       "    .dataframe tbody tr th:only-of-type {\n",
       "        vertical-align: middle;\n",
       "    }\n",
       "\n",
       "    .dataframe tbody tr th {\n",
       "        vertical-align: top;\n",
       "    }\n",
       "\n",
       "    .dataframe thead th {\n",
       "        text-align: right;\n",
       "    }\n",
       "</style>\n",
       "<table border=\"1\" class=\"dataframe\">\n",
       "  <thead>\n",
       "    <tr style=\"text-align: right;\">\n",
       "      <th></th>\n",
       "      <th>co2</th>\n",
       "    </tr>\n",
       "    <tr>\n",
       "      <th>year</th>\n",
       "      <th></th>\n",
       "    </tr>\n",
       "  </thead>\n",
       "  <tbody>\n",
       "    <tr>\n",
       "      <th>1975-01-01</th>\n",
       "      <td>4400795008</td>\n",
       "    </tr>\n",
       "    <tr>\n",
       "      <th>1976-01-01</th>\n",
       "      <td>4607168187</td>\n",
       "    </tr>\n",
       "  </tbody>\n",
       "</table>\n",
       "</div>"
      ],
      "text/plain": [
       "                   co2\n",
       "year                  \n",
       "1975-01-01  4400795008\n",
       "1976-01-01  4607168187"
      ]
     },
     "execution_count": 26,
     "metadata": {},
     "output_type": "execute_result"
    }
   ],
   "source": [
    "# test the split between validate and test\n",
    "pd.concat([train.tail(1), validate.head(1)])\n",
    "pd.concat([validate.tail(1), test.head(1)])"
   ]
  },
  {
   "cell_type": "code",
   "execution_count": 27,
   "id": "779dc0e7",
   "metadata": {},
   "outputs": [
    {
     "data": {
      "text/html": [
       "<div>\n",
       "<style scoped>\n",
       "    .dataframe tbody tr th:only-of-type {\n",
       "        vertical-align: middle;\n",
       "    }\n",
       "\n",
       "    .dataframe tbody tr th {\n",
       "        vertical-align: top;\n",
       "    }\n",
       "\n",
       "    .dataframe thead th {\n",
       "        text-align: right;\n",
       "    }\n",
       "</style>\n",
       "<table border=\"1\" class=\"dataframe\">\n",
       "  <thead>\n",
       "    <tr style=\"text-align: right;\">\n",
       "      <th></th>\n",
       "      <th>co2</th>\n",
       "    </tr>\n",
       "    <tr>\n",
       "      <th>year</th>\n",
       "      <th></th>\n",
       "    </tr>\n",
       "  </thead>\n",
       "  <tbody>\n",
       "    <tr>\n",
       "      <th>2019-01-01</th>\n",
       "      <td>5284696657</td>\n",
       "    </tr>\n",
       "    <tr>\n",
       "      <th>2019-01-01</th>\n",
       "      <td>5284696657</td>\n",
       "    </tr>\n",
       "  </tbody>\n",
       "</table>\n",
       "</div>"
      ],
      "text/plain": [
       "                   co2\n",
       "year                  \n",
       "2019-01-01  5284696657\n",
       "2019-01-01  5284696657"
      ]
     },
     "execution_count": 27,
     "metadata": {},
     "output_type": "execute_result"
    }
   ],
   "source": [
    "# compare the last row of test to last row of df\n",
    "pd.concat([test.tail(1), df.tail(1)])"
   ]
  },
  {
   "cell_type": "code",
   "execution_count": 28,
   "id": "d617fb81",
   "metadata": {},
   "outputs": [
    {
     "data": {
      "image/png": "[encoded data removed]",
      "text/plain": [
       "<Figure size 864x288 with 1 Axes>"
      ]
     },
     "metadata": {
      "needs_background": "light"
     },
     "output_type": "display_data"
    }
   ],
   "source": [
    "# plot the data points, color by train, validate, test\n",
    "for col in train.columns:\n",
    "    plt.figure(figsize=(12,4))\n",
    "    plt.plot(train[col])\n",
    "    plt.plot(validate[col])\n",
    "    plt.plot(test[col])\n",
    "    plt.ylabel(col)\n",
    "    plt.title(col)\n",
    "    plt.show()"
   ]
  },
  {
   "cell_type": "code",
   "execution_count": 29,
   "id": "d70db947",
   "metadata": {},
   "outputs": [],
   "source": [
    "\n",
    "# define evaluation function to compute rmse\n",
    "\n",
    "def evaluate(target_var):\n",
    "    '''\n",
    "    the evaluate function will take in the actual values in validate and the predicted values and compute the \n",
    "    mean squared error and then take the square root and round to zero decimals\n",
    "    it will return the rmse \n",
    "    '''\n",
    "    rmse = round(sqrt(mean_squared_error(validate[target_var], yhat_df[target_var])), 0)\n",
    "    return rmse"
   ]
  },
  {
   "cell_type": "code",
   "execution_count": 30,
   "id": "d6b09ac2",
   "metadata": {},
   "outputs": [],
   "source": [
    "# plot and evaluate: plot\n",
    "def plot_and_eval(target_var):\n",
    "    '''\n",
    "    a function to evaluate forecasts by computing the rmse and plot train and validate along with predictions\n",
    "    '''\n",
    "    plt.figure(figsize = (12,4))\n",
    "    plt.plot(train[target_var], label = 'Train', linewidth = 1)\n",
    "    plt.plot(validate[target_var], label = 'Validate', linewidth = 1)\n",
    "    plt.plot(yhat_df[target_var])\n",
    "    plt.title(target_var)\n",
    "    plt.legend()\n",
    "    rmse = evaluate(target_var)\n",
    "    print(target_var, '-- RMSE: {:.0f}'.format(rmse))\n",
    "    \n",
    "    plt.show()"
   ]
  },
  {
   "cell_type": "code",
   "execution_count": 31,
   "id": "539534f8",
   "metadata": {},
   "outputs": [],
   "source": [
    "# Create the empty dataframe with model_type, target_var, rmse\n",
    "eval_df = pd.DataFrame(columns=['model_type', 'target_var', 'rmse'])"
   ]
  },
  {
   "cell_type": "code",
   "execution_count": 32,
   "id": "d73b0dff",
   "metadata": {},
   "outputs": [
    {
     "data": {
      "text/html": [
       "<div>\n",
       "<style scoped>\n",
       "    .dataframe tbody tr th:only-of-type {\n",
       "        vertical-align: middle;\n",
       "    }\n",
       "\n",
       "    .dataframe tbody tr th {\n",
       "        vertical-align: top;\n",
       "    }\n",
       "\n",
       "    .dataframe thead th {\n",
       "        text-align: right;\n",
       "    }\n",
       "</style>\n",
       "<table border=\"1\" class=\"dataframe\">\n",
       "  <thead>\n",
       "    <tr style=\"text-align: right;\">\n",
       "      <th></th>\n",
       "      <th>model_type</th>\n",
       "      <th>target_var</th>\n",
       "      <th>rmse</th>\n",
       "    </tr>\n",
       "  </thead>\n",
       "  <tbody>\n",
       "  </tbody>\n",
       "</table>\n",
       "</div>"
      ],
      "text/plain": [
       "Empty DataFrame\n",
       "Columns: [model_type, target_var, rmse]\n",
       "Index: []"
      ]
     },
     "execution_count": 32,
     "metadata": {},
     "output_type": "execute_result"
    }
   ],
   "source": [
    "# check out the data frame\n",
    "eval_df"
   ]
  },
  {
   "cell_type": "code",
   "execution_count": 33,
   "id": "d546a8e8",
   "metadata": {},
   "outputs": [],
   "source": [
    "# function to store rmse for comparison purposes\n",
    "def append_eval_df(model_type, target_var):\n",
    "    '''\n",
    "    this function is going to take in the mode_type as a string, the target variable as a string\n",
    "    and rund the evaluate() function to compute the rmse,\n",
    "    and append the dataframe a row with the model_type, target_var, and rmse.\n",
    "    it will return the new dataframe\n",
    "    '''\n",
    "    rmse = evaluate(target_var)\n",
    "    d = {'model_type': [model_type], 'target_var': [target_var], 'rmse': [rmse]}\n",
    "    d = pd.DataFrame(d)\n",
    "    return eval_df.append(d, ignore_index = True)\n"
   ]
  },
  {
   "cell_type": "code",
   "execution_count": 34,
   "id": "dc2d778e",
   "metadata": {
    "scrolled": true
   },
   "outputs": [
    {
     "data": {
      "text/plain": [
       "1169267069"
      ]
     },
     "execution_count": 34,
     "metadata": {},
     "output_type": "execute_result"
    }
   ],
   "source": [
    "# last observed value\n",
    "# make predictions\n",
    "# taking the last observation\n",
    "last_co2 = train['co2'][-1:][0]\n",
    "last_co2"
   ]
  },
  {
   "cell_type": "code",
   "execution_count": 35,
   "id": "43eeccf7",
   "metadata": {},
   "outputs": [
    {
     "data": {
      "text/html": [
       "<div>\n",
       "<style scoped>\n",
       "    .dataframe tbody tr th:only-of-type {\n",
       "        vertical-align: middle;\n",
       "    }\n",
       "\n",
       "    .dataframe tbody tr th {\n",
       "        vertical-align: top;\n",
       "    }\n",
       "\n",
       "    .dataframe thead th {\n",
       "        text-align: right;\n",
       "    }\n",
       "</style>\n",
       "<table border=\"1\" class=\"dataframe\">\n",
       "  <thead>\n",
       "    <tr style=\"text-align: right;\">\n",
       "      <th></th>\n",
       "      <th>co2</th>\n",
       "    </tr>\n",
       "    <tr>\n",
       "      <th>year</th>\n",
       "      <th></th>\n",
       "    </tr>\n",
       "  </thead>\n",
       "  <tbody>\n",
       "    <tr>\n",
       "      <th>1910-01-01</th>\n",
       "      <td>1169267069</td>\n",
       "    </tr>\n",
       "    <tr>\n",
       "      <th>1911-01-01</th>\n",
       "      <td>1169267069</td>\n",
       "    </tr>\n",
       "  </tbody>\n",
       "</table>\n",
       "</div>"
      ],
      "text/plain": [
       "                   co2\n",
       "year                  \n",
       "1910-01-01  1169267069\n",
       "1911-01-01  1169267069"
      ]
     },
     "execution_count": 35,
     "metadata": {},
     "output_type": "execute_result"
    }
   ],
   "source": [
    "# make predictions\n",
    "yhat_df = pd.DataFrame({'co2': [last_co2]}, \n",
    "                       index = validate.index)\n",
    "\n",
    "yhat_df.head(2)"
   ]
  },
  {
   "cell_type": "code",
   "execution_count": 36,
   "id": "fcdb0523",
   "metadata": {},
   "outputs": [
    {
     "name": "stdout",
     "output_type": "stream",
     "text": [
      "co2 -- RMSE: 845042215\n"
     ]
    },
    {
     "data": {
      "image/png": "[encoded data removed]",
      "text/plain": [
       "<Figure size 864x288 with 1 Axes>"
      ]
     },
     "metadata": {
      "needs_background": "light"
     },
     "output_type": "display_data"
    }
   ],
   "source": [
    "for col in train.columns:\n",
    "    plot_and_eval(col)"
   ]
  },
  {
   "cell_type": "code",
   "execution_count": 37,
   "id": "866ee636",
   "metadata": {},
   "outputs": [],
   "source": [
    "for col in train.columns:\n",
    "    eval_df = append_eval_df(model_type = 'last_observed_value', \n",
    "                             target_var = col)"
   ]
  },
  {
   "cell_type": "code",
   "execution_count": 38,
   "id": "c512a024",
   "metadata": {},
   "outputs": [
    {
     "data": {
      "text/html": [
       "<div>\n",
       "<style scoped>\n",
       "    .dataframe tbody tr th:only-of-type {\n",
       "        vertical-align: middle;\n",
       "    }\n",
       "\n",
       "    .dataframe tbody tr th {\n",
       "        vertical-align: top;\n",
       "    }\n",
       "\n",
       "    .dataframe thead th {\n",
       "        text-align: right;\n",
       "    }\n",
       "</style>\n",
       "<table border=\"1\" class=\"dataframe\">\n",
       "  <thead>\n",
       "    <tr style=\"text-align: right;\">\n",
       "      <th></th>\n",
       "      <th>model_type</th>\n",
       "      <th>target_var</th>\n",
       "      <th>rmse</th>\n",
       "    </tr>\n",
       "  </thead>\n",
       "  <tbody>\n",
       "    <tr>\n",
       "      <th>0</th>\n",
       "      <td>last_observed_value</td>\n",
       "      <td>co2</td>\n",
       "      <td>845042215.0</td>\n",
       "    </tr>\n",
       "  </tbody>\n",
       "</table>\n",
       "</div>"
      ],
      "text/plain": [
       "            model_type target_var         rmse\n",
       "0  last_observed_value        co2  845042215.0"
      ]
     },
     "execution_count": 38,
     "metadata": {},
     "output_type": "execute_result"
    }
   ],
   "source": [
    "eval_df"
   ]
  },
  {
   "cell_type": "code",
   "execution_count": 39,
   "id": "403130e5",
   "metadata": {},
   "outputs": [],
   "source": [
    "# Simple Average\n",
    "# make predictions\n",
    "avg_co2 = round(train['co2'].mean(), 2)\n",
    "\n",
    "def make_predictions():\n",
    "    yhat_df = pd.DataFrame({'co2': [avg_co2]}, \n",
    "                       index = validate.index)\n",
    "    return yhat_df\n",
    "\n",
    "yhat_df = make_predictions()"
   ]
  },
  {
   "cell_type": "code",
   "execution_count": 40,
   "id": "b9e5e5a6",
   "metadata": {},
   "outputs": [
    {
     "data": {
      "text/html": [
       "<div>\n",
       "<style scoped>\n",
       "    .dataframe tbody tr th:only-of-type {\n",
       "        vertical-align: middle;\n",
       "    }\n",
       "\n",
       "    .dataframe tbody tr th {\n",
       "        vertical-align: top;\n",
       "    }\n",
       "\n",
       "    .dataframe thead th {\n",
       "        text-align: right;\n",
       "    }\n",
       "</style>\n",
       "<table border=\"1\" class=\"dataframe\">\n",
       "  <thead>\n",
       "    <tr style=\"text-align: right;\">\n",
       "      <th></th>\n",
       "      <th>co2</th>\n",
       "    </tr>\n",
       "    <tr>\n",
       "      <th>year</th>\n",
       "      <th></th>\n",
       "    </tr>\n",
       "  </thead>\n",
       "  <tbody>\n",
       "    <tr>\n",
       "      <th>1910-01-01</th>\n",
       "      <td>1.762969e+08</td>\n",
       "    </tr>\n",
       "    <tr>\n",
       "      <th>1911-01-01</th>\n",
       "      <td>1.762969e+08</td>\n",
       "    </tr>\n",
       "    <tr>\n",
       "      <th>1912-01-01</th>\n",
       "      <td>1.762969e+08</td>\n",
       "    </tr>\n",
       "    <tr>\n",
       "      <th>1913-01-01</th>\n",
       "      <td>1.762969e+08</td>\n",
       "    </tr>\n",
       "    <tr>\n",
       "      <th>1914-01-01</th>\n",
       "      <td>1.762969e+08</td>\n",
       "    </tr>\n",
       "  </tbody>\n",
       "</table>\n",
       "</div>"
      ],
      "text/plain": [
       "                     co2\n",
       "year                    \n",
       "1910-01-01  1.762969e+08\n",
       "1911-01-01  1.762969e+08\n",
       "1912-01-01  1.762969e+08\n",
       "1913-01-01  1.762969e+08\n",
       "1914-01-01  1.762969e+08"
      ]
     },
     "execution_count": 40,
     "metadata": {},
     "output_type": "execute_result"
    }
   ],
   "source": [
    "yhat_df.head() # check_yo_head"
   ]
  },
  {
   "cell_type": "code",
   "execution_count": 41,
   "id": "ddc2913c",
   "metadata": {},
   "outputs": [
    {
     "name": "stdout",
     "output_type": "stream",
     "text": [
      "co2 -- RMSE: 2406707148\n"
     ]
    },
    {
     "data": {
      "image/png": "[encoded data removed]",
      "text/plain": [
       "<Figure size 864x288 with 1 Axes>"
      ]
     },
     "metadata": {
      "needs_background": "light"
     },
     "output_type": "display_data"
    }
   ],
   "source": [
    "# plotting actual vs. predicted values\n",
    "for col in train.columns:\n",
    "    plot_and_eval(col)"
   ]
  },
  {
   "cell_type": "code",
   "execution_count": 42,
   "id": "eee7df0c",
   "metadata": {},
   "outputs": [],
   "source": [
    "# evaluate using MSE and RMSE, and add evaluation metrics to eval_df\n",
    "for col in train.columns:\n",
    "    eval_df = append_eval_df(model_type='simple_average', \n",
    "                             target_var = col)"
   ]
  },
  {
   "cell_type": "code",
   "execution_count": 43,
   "id": "c2e1712e",
   "metadata": {},
   "outputs": [
    {
     "data": {
      "text/html": [
       "<div>\n",
       "<style scoped>\n",
       "    .dataframe tbody tr th:only-of-type {\n",
       "        vertical-align: middle;\n",
       "    }\n",
       "\n",
       "    .dataframe tbody tr th {\n",
       "        vertical-align: top;\n",
       "    }\n",
       "\n",
       "    .dataframe thead th {\n",
       "        text-align: right;\n",
       "    }\n",
       "</style>\n",
       "<table border=\"1\" class=\"dataframe\">\n",
       "  <thead>\n",
       "    <tr style=\"text-align: right;\">\n",
       "      <th></th>\n",
       "      <th>model_type</th>\n",
       "      <th>target_var</th>\n",
       "      <th>rmse</th>\n",
       "    </tr>\n",
       "  </thead>\n",
       "  <tbody>\n",
       "    <tr>\n",
       "      <th>0</th>\n",
       "      <td>last_observed_value</td>\n",
       "      <td>co2</td>\n",
       "      <td>8.450422e+08</td>\n",
       "    </tr>\n",
       "    <tr>\n",
       "      <th>1</th>\n",
       "      <td>simple_average</td>\n",
       "      <td>co2</td>\n",
       "      <td>2.406707e+09</td>\n",
       "    </tr>\n",
       "  </tbody>\n",
       "</table>\n",
       "</div>"
      ],
      "text/plain": [
       "            model_type target_var          rmse\n",
       "0  last_observed_value        co2  8.450422e+08\n",
       "1       simple_average        co2  2.406707e+09"
      ]
     },
     "execution_count": 43,
     "metadata": {},
     "output_type": "execute_result"
    }
   ],
   "source": [
    "# evaluation metrics on eval_df\n",
    "eval_df"
   ]
  },
  {
   "cell_type": "code",
   "execution_count": 44,
   "id": "e5711053",
   "metadata": {},
   "outputs": [
    {
     "data": {
      "text/html": [
       "<div>\n",
       "<style scoped>\n",
       "    .dataframe tbody tr th:only-of-type {\n",
       "        vertical-align: middle;\n",
       "    }\n",
       "\n",
       "    .dataframe tbody tr th {\n",
       "        vertical-align: top;\n",
       "    }\n",
       "\n",
       "    .dataframe thead th {\n",
       "        text-align: right;\n",
       "    }\n",
       "</style>\n",
       "<table border=\"1\" class=\"dataframe\">\n",
       "  <thead>\n",
       "    <tr style=\"text-align: right;\">\n",
       "      <th></th>\n",
       "      <th>co2</th>\n",
       "    </tr>\n",
       "    <tr>\n",
       "      <th>year</th>\n",
       "      <th></th>\n",
       "    </tr>\n",
       "  </thead>\n",
       "  <tbody>\n",
       "    <tr>\n",
       "      <th>1910-01-01</th>\n",
       "      <td>5.641285e+08</td>\n",
       "    </tr>\n",
       "    <tr>\n",
       "      <th>1911-01-01</th>\n",
       "      <td>5.641285e+08</td>\n",
       "    </tr>\n",
       "    <tr>\n",
       "      <th>1912-01-01</th>\n",
       "      <td>5.641285e+08</td>\n",
       "    </tr>\n",
       "  </tbody>\n",
       "</table>\n",
       "</div>"
      ],
      "text/plain": [
       "                     co2\n",
       "year                    \n",
       "1910-01-01  5.641285e+08\n",
       "1911-01-01  5.641285e+08\n",
       "1912-01-01  5.641285e+08"
      ]
     },
     "execution_count": 44,
     "metadata": {},
     "output_type": "execute_result"
    }
   ],
   "source": [
    "\n",
    "# compute a 30 day rolling average,\n",
    "# use the most recent/last 30 day period value to predict forward.\n",
    "period = 30\n",
    "\n",
    "avg_co2 = round(train['co2'].rolling(period).mean().iloc[-1], 2)\n",
    "\n",
    "yhat_df = make_predictions()\n",
    "yhat_df.head(3)"
   ]
  },
  {
   "cell_type": "code",
   "execution_count": 45,
   "id": "81e57318",
   "metadata": {},
   "outputs": [
    {
     "name": "stdout",
     "output_type": "stream",
     "text": [
      "co2 -- RMSE: 2056484653\n"
     ]
    },
    {
     "data": {
      "image/png": "[encoded data removed]",
      "text/plain": [
       "<Figure size 864x288 with 1 Axes>"
      ]
     },
     "metadata": {
      "needs_background": "light"
     },
     "output_type": "display_data"
    }
   ],
   "source": [
    "# plotting actual vs. predicted values\n",
    "for col in train.columns:\n",
    "    plot_and_eval(col)"
   ]
  },
  {
   "cell_type": "code",
   "execution_count": 46,
   "id": "b4ec7904",
   "metadata": {},
   "outputs": [],
   "source": [
    "\n",
    "# evaluate using MSE and RMSE, and add evaluation metrics to eval_df\n",
    "for col in train.columns:\n",
    "    eval_df = append_eval_df(model_type='30d moving average', \n",
    "                             target_var = col)"
   ]
  },
  {
   "cell_type": "code",
   "execution_count": 47,
   "id": "ca34a262",
   "metadata": {},
   "outputs": [
    {
     "data": {
      "text/html": [
       "<div>\n",
       "<style scoped>\n",
       "    .dataframe tbody tr th:only-of-type {\n",
       "        vertical-align: middle;\n",
       "    }\n",
       "\n",
       "    .dataframe tbody tr th {\n",
       "        vertical-align: top;\n",
       "    }\n",
       "\n",
       "    .dataframe thead th {\n",
       "        text-align: right;\n",
       "    }\n",
       "</style>\n",
       "<table border=\"1\" class=\"dataframe\">\n",
       "  <thead>\n",
       "    <tr style=\"text-align: right;\">\n",
       "      <th></th>\n",
       "      <th>model_type</th>\n",
       "      <th>target_var</th>\n",
       "      <th>rmse</th>\n",
       "    </tr>\n",
       "  </thead>\n",
       "  <tbody>\n",
       "    <tr>\n",
       "      <th>0</th>\n",
       "      <td>last_observed_value</td>\n",
       "      <td>co2</td>\n",
       "      <td>8.450422e+08</td>\n",
       "    </tr>\n",
       "    <tr>\n",
       "      <th>1</th>\n",
       "      <td>simple_average</td>\n",
       "      <td>co2</td>\n",
       "      <td>2.406707e+09</td>\n",
       "    </tr>\n",
       "    <tr>\n",
       "      <th>2</th>\n",
       "      <td>30d moving average</td>\n",
       "      <td>co2</td>\n",
       "      <td>2.056485e+09</td>\n",
       "    </tr>\n",
       "  </tbody>\n",
       "</table>\n",
       "</div>"
      ],
      "text/plain": [
       "            model_type target_var          rmse\n",
       "0  last_observed_value        co2  8.450422e+08\n",
       "1       simple_average        co2  2.406707e+09\n",
       "2   30d moving average        co2  2.056485e+09"
      ]
     },
     "execution_count": 47,
     "metadata": {},
     "output_type": "execute_result"
    }
   ],
   "source": [
    "\n",
    "# evaluation metrics on eval_df\n",
    "eval_df"
   ]
  },
  {
   "cell_type": "code",
   "execution_count": 48,
   "id": "ccb7d561",
   "metadata": {},
   "outputs": [],
   "source": [
    "# Let's try out several other values for periods\n",
    "\n",
    "periods = [1, 5, 10, 15, 20, 25, 30]\n",
    "\n",
    "for p in periods:\n",
    "    avg_co2 = round(train['co2'].rolling(p).mean().iloc[-1], 2)\n",
    "    yhat_df = make_predictions()\n",
    "    model_type = str(p) + 'd moving average'\n",
    "    eval_df = append_eval_df(model_type = model_type,\n",
    "                             target_var = 'co2'\n",
    "                            )"
   ]
  },
  {
   "cell_type": "code",
   "execution_count": 49,
   "id": "7908e7ba",
   "metadata": {},
   "outputs": [
    {
     "data": {
      "text/html": [
       "<div>\n",
       "<style scoped>\n",
       "    .dataframe tbody tr th:only-of-type {\n",
       "        vertical-align: middle;\n",
       "    }\n",
       "\n",
       "    .dataframe tbody tr th {\n",
       "        vertical-align: top;\n",
       "    }\n",
       "\n",
       "    .dataframe thead th {\n",
       "        text-align: right;\n",
       "    }\n",
       "</style>\n",
       "<table border=\"1\" class=\"dataframe\">\n",
       "  <thead>\n",
       "    <tr style=\"text-align: right;\">\n",
       "      <th></th>\n",
       "      <th>model_type</th>\n",
       "      <th>target_var</th>\n",
       "      <th>rmse</th>\n",
       "    </tr>\n",
       "  </thead>\n",
       "  <tbody>\n",
       "    <tr>\n",
       "      <th>0</th>\n",
       "      <td>last_observed_value</td>\n",
       "      <td>co2</td>\n",
       "      <td>8.450422e+08</td>\n",
       "    </tr>\n",
       "    <tr>\n",
       "      <th>1</th>\n",
       "      <td>simple_average</td>\n",
       "      <td>co2</td>\n",
       "      <td>2.406707e+09</td>\n",
       "    </tr>\n",
       "    <tr>\n",
       "      <th>2</th>\n",
       "      <td>30d moving average</td>\n",
       "      <td>co2</td>\n",
       "      <td>2.056485e+09</td>\n",
       "    </tr>\n",
       "    <tr>\n",
       "      <th>3</th>\n",
       "      <td>1d moving average</td>\n",
       "      <td>co2</td>\n",
       "      <td>1.546310e+09</td>\n",
       "    </tr>\n",
       "    <tr>\n",
       "      <th>4</th>\n",
       "      <td>5d moving average</td>\n",
       "      <td>co2</td>\n",
       "      <td>1.608249e+09</td>\n",
       "    </tr>\n",
       "    <tr>\n",
       "      <th>5</th>\n",
       "      <td>10d moving average</td>\n",
       "      <td>co2</td>\n",
       "      <td>1.733174e+09</td>\n",
       "    </tr>\n",
       "    <tr>\n",
       "      <th>6</th>\n",
       "      <td>15d moving average</td>\n",
       "      <td>co2</td>\n",
       "      <td>1.849526e+09</td>\n",
       "    </tr>\n",
       "    <tr>\n",
       "      <th>7</th>\n",
       "      <td>20d moving average</td>\n",
       "      <td>co2</td>\n",
       "      <td>1.929283e+09</td>\n",
       "    </tr>\n",
       "    <tr>\n",
       "      <th>8</th>\n",
       "      <td>25d moving average</td>\n",
       "      <td>co2</td>\n",
       "      <td>1.998096e+09</td>\n",
       "    </tr>\n",
       "    <tr>\n",
       "      <th>9</th>\n",
       "      <td>30d moving average</td>\n",
       "      <td>co2</td>\n",
       "      <td>2.056485e+09</td>\n",
       "    </tr>\n",
       "  </tbody>\n",
       "</table>\n",
       "</div>"
      ],
      "text/plain": [
       "            model_type target_var          rmse\n",
       "0  last_observed_value        co2  8.450422e+08\n",
       "1       simple_average        co2  2.406707e+09\n",
       "2   30d moving average        co2  2.056485e+09\n",
       "3    1d moving average        co2  1.546310e+09\n",
       "4    5d moving average        co2  1.608249e+09\n",
       "5   10d moving average        co2  1.733174e+09\n",
       "6   15d moving average        co2  1.849526e+09\n",
       "7   20d moving average        co2  1.929283e+09\n",
       "8   25d moving average        co2  1.998096e+09\n",
       "9   30d moving average        co2  2.056485e+09"
      ]
     },
     "execution_count": 49,
     "metadata": {},
     "output_type": "execute_result"
    }
   ],
   "source": [
    "# evaluation metrics on eval_df\n",
    "eval_df"
   ]
  },
  {
   "cell_type": "code",
   "execution_count": 50,
   "id": "94a21290",
   "metadata": {},
   "outputs": [],
   "source": [
    "\n",
    "# Which is best so far?\n",
    "min_rmse_amount = eval_df.groupby('target_var')['rmse'].min()[0]"
   ]
  },
  {
   "cell_type": "code",
   "execution_count": 51,
   "id": "97402994",
   "metadata": {},
   "outputs": [
    {
     "data": {
      "text/html": [
       "<div>\n",
       "<style scoped>\n",
       "    .dataframe tbody tr th:only-of-type {\n",
       "        vertical-align: middle;\n",
       "    }\n",
       "\n",
       "    .dataframe tbody tr th {\n",
       "        vertical-align: top;\n",
       "    }\n",
       "\n",
       "    .dataframe thead th {\n",
       "        text-align: right;\n",
       "    }\n",
       "</style>\n",
       "<table border=\"1\" class=\"dataframe\">\n",
       "  <thead>\n",
       "    <tr style=\"text-align: right;\">\n",
       "      <th></th>\n",
       "      <th>model_type</th>\n",
       "      <th>target_var</th>\n",
       "      <th>rmse</th>\n",
       "    </tr>\n",
       "  </thead>\n",
       "  <tbody>\n",
       "    <tr>\n",
       "      <th>0</th>\n",
       "      <td>last_observed_value</td>\n",
       "      <td>co2</td>\n",
       "      <td>845042215.0</td>\n",
       "    </tr>\n",
       "  </tbody>\n",
       "</table>\n",
       "</div>"
      ],
      "text/plain": [
       "            model_type target_var         rmse\n",
       "0  last_observed_value        co2  845042215.0"
      ]
     },
     "execution_count": 51,
     "metadata": {},
     "output_type": "execute_result"
    }
   ],
   "source": [
    "\n",
    "# evaluation metrics on eval_df\n",
    "eval_df[((eval_df.rmse == min_rmse_amount)\n",
    "        )]"
   ]
  },
  {
   "cell_type": "code",
   "execution_count": 52,
   "id": "e8ecb9aa",
   "metadata": {},
   "outputs": [],
   "source": [
    "\n",
    "# setting up for plots\n",
    "plt.rc('figure', figsize=(12, 6))\n",
    "plt.rc('axes.spines', top=False, right=False)\n",
    "plt.rc('font', size=13)"
   ]
  },
  {
   "cell_type": "code",
   "execution_count": 53,
   "id": "bcd53ad6",
   "metadata": {},
   "outputs": [
    {
     "data": {
      "image/png": "[encoded data removed]",
      "text/plain": [
       "<Figure size 864x432 with 4 Axes>"
      ]
     },
     "metadata": {
      "needs_background": "light"
     },
     "output_type": "display_data"
    }
   ],
   "source": [
    "# Holt's Linear Trend\n",
    "import statsmodels.api as sm\n",
    "\n",
    "sm.tsa.seasonal_decompose(train['co2'].resample('Y').mean()).plot()\n",
    "plt.show()"
   ]
  },
  {
   "cell_type": "code",
   "execution_count": 54,
   "id": "bc97b66d",
   "metadata": {},
   "outputs": [],
   "source": [
    "for col in train.columns:\n",
    "    model = Holt(train[col], exponential = False)\n",
    "    model = model.fit(smoothing_level = .1, \n",
    "                      smoothing_slope = .1, \n",
    "                      optimized = False)\n",
    "    yhat_items = model.predict(start = validate.index[0], \n",
    "                               end = validate.index[-1])\n",
    "    yhat_df[col] = round(yhat_items, 2)"
   ]
  },
  {
   "cell_type": "code",
   "execution_count": 55,
   "id": "4db807e9",
   "metadata": {},
   "outputs": [
    {
     "name": "stdout",
     "output_type": "stream",
     "text": [
      "co2 -- RMSE: 410284536\n"
     ]
    },
    {
     "data": {
      "image/png": "[encoded data removed]",
      "text/plain": [
       "<Figure size 864x288 with 1 Axes>"
      ]
     },
     "metadata": {
      "needs_background": "light"
     },
     "output_type": "display_data"
    }
   ],
   "source": [
    "for col in train.columns:\n",
    "    plot_and_eval(target_var = col)"
   ]
  },
  {
   "cell_type": "code",
   "execution_count": 56,
   "id": "f55ae5c4",
   "metadata": {},
   "outputs": [],
   "source": [
    "for col in train.columns:\n",
    "    eval_df = append_eval_df(model_type = 'Holts', \n",
    "                             target_var = col)"
   ]
  },
  {
   "cell_type": "code",
   "execution_count": 57,
   "id": "98281753",
   "metadata": {},
   "outputs": [
    {
     "data": {
      "text/html": [
       "<div>\n",
       "<style scoped>\n",
       "    .dataframe tbody tr th:only-of-type {\n",
       "        vertical-align: middle;\n",
       "    }\n",
       "\n",
       "    .dataframe tbody tr th {\n",
       "        vertical-align: top;\n",
       "    }\n",
       "\n",
       "    .dataframe thead th {\n",
       "        text-align: right;\n",
       "    }\n",
       "</style>\n",
       "<table border=\"1\" class=\"dataframe\">\n",
       "  <thead>\n",
       "    <tr style=\"text-align: right;\">\n",
       "      <th></th>\n",
       "      <th>model_type</th>\n",
       "      <th>target_var</th>\n",
       "      <th>rmse</th>\n",
       "    </tr>\n",
       "  </thead>\n",
       "  <tbody>\n",
       "    <tr>\n",
       "      <th>0</th>\n",
       "      <td>last_observed_value</td>\n",
       "      <td>co2</td>\n",
       "      <td>8.450422e+08</td>\n",
       "    </tr>\n",
       "    <tr>\n",
       "      <th>1</th>\n",
       "      <td>simple_average</td>\n",
       "      <td>co2</td>\n",
       "      <td>2.406707e+09</td>\n",
       "    </tr>\n",
       "    <tr>\n",
       "      <th>2</th>\n",
       "      <td>30d moving average</td>\n",
       "      <td>co2</td>\n",
       "      <td>2.056485e+09</td>\n",
       "    </tr>\n",
       "    <tr>\n",
       "      <th>3</th>\n",
       "      <td>1d moving average</td>\n",
       "      <td>co2</td>\n",
       "      <td>1.546310e+09</td>\n",
       "    </tr>\n",
       "    <tr>\n",
       "      <th>4</th>\n",
       "      <td>5d moving average</td>\n",
       "      <td>co2</td>\n",
       "      <td>1.608249e+09</td>\n",
       "    </tr>\n",
       "    <tr>\n",
       "      <th>5</th>\n",
       "      <td>10d moving average</td>\n",
       "      <td>co2</td>\n",
       "      <td>1.733174e+09</td>\n",
       "    </tr>\n",
       "    <tr>\n",
       "      <th>6</th>\n",
       "      <td>15d moving average</td>\n",
       "      <td>co2</td>\n",
       "      <td>1.849526e+09</td>\n",
       "    </tr>\n",
       "    <tr>\n",
       "      <th>7</th>\n",
       "      <td>20d moving average</td>\n",
       "      <td>co2</td>\n",
       "      <td>1.929283e+09</td>\n",
       "    </tr>\n",
       "    <tr>\n",
       "      <th>8</th>\n",
       "      <td>25d moving average</td>\n",
       "      <td>co2</td>\n",
       "      <td>1.998096e+09</td>\n",
       "    </tr>\n",
       "    <tr>\n",
       "      <th>9</th>\n",
       "      <td>30d moving average</td>\n",
       "      <td>co2</td>\n",
       "      <td>2.056485e+09</td>\n",
       "    </tr>\n",
       "    <tr>\n",
       "      <th>10</th>\n",
       "      <td>Holts</td>\n",
       "      <td>co2</td>\n",
       "      <td>4.102845e+08</td>\n",
       "    </tr>\n",
       "  </tbody>\n",
       "</table>\n",
       "</div>"
      ],
      "text/plain": [
       "             model_type target_var          rmse\n",
       "0   last_observed_value        co2  8.450422e+08\n",
       "1        simple_average        co2  2.406707e+09\n",
       "2    30d moving average        co2  2.056485e+09\n",
       "3     1d moving average        co2  1.546310e+09\n",
       "4     5d moving average        co2  1.608249e+09\n",
       "5    10d moving average        co2  1.733174e+09\n",
       "6    15d moving average        co2  1.849526e+09\n",
       "7    20d moving average        co2  1.929283e+09\n",
       "8    25d moving average        co2  1.998096e+09\n",
       "9    30d moving average        co2  2.056485e+09\n",
       "10                Holts        co2  4.102845e+08"
      ]
     },
     "execution_count": 57,
     "metadata": {},
     "output_type": "execute_result"
    }
   ],
   "source": [
    "eval_df"
   ]
  },
  {
   "cell_type": "code",
   "execution_count": null,
   "id": "fe74cdb8",
   "metadata": {},
   "outputs": [],
   "source": []
  },
  {
   "cell_type": "code",
   "execution_count": 58,
   "id": "babc2855",
   "metadata": {},
   "outputs": [],
   "source": [
    "#df = pd.read_csv('annual-co2-emissions-per-country.csv')"
   ]
  },
  {
   "cell_type": "code",
   "execution_count": 59,
   "id": "5e50ede7",
   "metadata": {},
   "outputs": [],
   "source": [
    "#df.rename(columns={'Entity':'country', 'Code':'code', 'Year':'year', 'Annual CO2 emissions': 'co2'}, inplace=True)\n",
    "#df = df[df['country'] == \"United States\"]\n",
    "#df = df.drop(['code', 'country'], axis = 1)"
   ]
  },
  {
   "cell_type": "code",
   "execution_count": 60,
   "id": "d0c762db",
   "metadata": {},
   "outputs": [
    {
     "data": {
      "text/html": [
       "<div>\n",
       "<style scoped>\n",
       "    .dataframe tbody tr th:only-of-type {\n",
       "        vertical-align: middle;\n",
       "    }\n",
       "\n",
       "    .dataframe tbody tr th {\n",
       "        vertical-align: top;\n",
       "    }\n",
       "\n",
       "    .dataframe thead th {\n",
       "        text-align: right;\n",
       "    }\n",
       "</style>\n",
       "<table border=\"1\" class=\"dataframe\">\n",
       "  <thead>\n",
       "    <tr style=\"text-align: right;\">\n",
       "      <th></th>\n",
       "      <th>co2</th>\n",
       "    </tr>\n",
       "    <tr>\n",
       "      <th>year</th>\n",
       "      <th></th>\n",
       "    </tr>\n",
       "  </thead>\n",
       "  <tbody>\n",
       "    <tr>\n",
       "      <th>1800-01-01</th>\n",
       "      <td>252816</td>\n",
       "    </tr>\n",
       "    <tr>\n",
       "      <th>1801-01-01</th>\n",
       "      <td>267472</td>\n",
       "    </tr>\n",
       "    <tr>\n",
       "      <th>1802-01-01</th>\n",
       "      <td>289456</td>\n",
       "    </tr>\n",
       "    <tr>\n",
       "      <th>1803-01-01</th>\n",
       "      <td>296784</td>\n",
       "    </tr>\n",
       "    <tr>\n",
       "      <th>1804-01-01</th>\n",
       "      <td>333424</td>\n",
       "    </tr>\n",
       "  </tbody>\n",
       "</table>\n",
       "</div>"
      ],
      "text/plain": [
       "               co2\n",
       "year              \n",
       "1800-01-01  252816\n",
       "1801-01-01  267472\n",
       "1802-01-01  289456\n",
       "1803-01-01  296784\n",
       "1804-01-01  333424"
      ]
     },
     "execution_count": 60,
     "metadata": {},
     "output_type": "execute_result"
    }
   ],
   "source": [
    "df.head()"
   ]
  },
  {
   "cell_type": "code",
   "execution_count": 61,
   "id": "43690b28",
   "metadata": {},
   "outputs": [
    {
     "data": {
      "text/plain": [
       "co2    0\n",
       "dtype: int64"
      ]
     },
     "execution_count": 61,
     "metadata": {},
     "output_type": "execute_result"
    }
   ],
   "source": [
    "df.isna().sum()"
   ]
  },
  {
   "cell_type": "code",
   "execution_count": 62,
   "id": "2d88321f",
   "metadata": {},
   "outputs": [],
   "source": [
    "# Predict Based on Previous Cycle\n",
    "\n",
    "# re-split the data\n",
    "train = df[:'2017']\n",
    "validate = df[('2018')]\n",
    "test = df[('2019')]"
   ]
  },
  {
   "cell_type": "code",
   "execution_count": 63,
   "id": "f85dbde7",
   "metadata": {},
   "outputs": [
    {
     "name": "stdout",
     "output_type": "stream",
     "text": [
      "(218, 1)\n",
      "(1, 1)\n",
      "(1, 1)\n"
     ]
    }
   ],
   "source": [
    "print(train.shape)\n",
    "print(validate.shape)\n",
    "print(test.shape)"
   ]
  },
  {
   "cell_type": "code",
   "execution_count": 64,
   "id": "61cb0dfd",
   "metadata": {},
   "outputs": [],
   "source": [
    "yhat_df = train['2017'] + train.diff(30).mean()"
   ]
  },
  {
   "cell_type": "code",
   "execution_count": 65,
   "id": "f7262f73",
   "metadata": {},
   "outputs": [
    {
     "data": {
      "text/html": [
       "<div>\n",
       "<style scoped>\n",
       "    .dataframe tbody tr th:only-of-type {\n",
       "        vertical-align: middle;\n",
       "    }\n",
       "\n",
       "    .dataframe tbody tr th {\n",
       "        vertical-align: top;\n",
       "    }\n",
       "\n",
       "    .dataframe thead th {\n",
       "        text-align: right;\n",
       "    }\n",
       "</style>\n",
       "<table border=\"1\" class=\"dataframe\">\n",
       "  <thead>\n",
       "    <tr style=\"text-align: right;\">\n",
       "      <th></th>\n",
       "      <th>co2</th>\n",
       "    </tr>\n",
       "    <tr>\n",
       "      <th>year</th>\n",
       "      <th></th>\n",
       "    </tr>\n",
       "  </thead>\n",
       "  <tbody>\n",
       "    <tr>\n",
       "      <th>2017-01-01</th>\n",
       "      <td>6.144843e+09</td>\n",
       "    </tr>\n",
       "    <tr>\n",
       "      <th>2018-01-01</th>\n",
       "      <td>5.424882e+09</td>\n",
       "    </tr>\n",
       "  </tbody>\n",
       "</table>\n",
       "</div>"
      ],
      "text/plain": [
       "                     co2\n",
       "year                    \n",
       "2017-01-01  6.144843e+09\n",
       "2018-01-01  5.424882e+09"
      ]
     },
     "execution_count": 65,
     "metadata": {},
     "output_type": "execute_result"
    }
   ],
   "source": [
    "pd.concat([yhat_df.head(1), validate.head(1)])"
   ]
  },
  {
   "cell_type": "code",
   "execution_count": 66,
   "id": "8179889b",
   "metadata": {},
   "outputs": [
    {
     "data": {
      "text/plain": [
       "1"
      ]
     },
     "execution_count": 66,
     "metadata": {},
     "output_type": "execute_result"
    }
   ],
   "source": [
    "# set yhat_df to index of validate\n",
    "yhat_df.index = validate.index\n",
    "\n",
    "len(yhat_df)"
   ]
  },
  {
   "cell_type": "code",
   "execution_count": 67,
   "id": "6bd638bd",
   "metadata": {},
   "outputs": [
    {
     "data": {
      "text/html": [
       "<div>\n",
       "<style scoped>\n",
       "    .dataframe tbody tr th:only-of-type {\n",
       "        vertical-align: middle;\n",
       "    }\n",
       "\n",
       "    .dataframe tbody tr th {\n",
       "        vertical-align: top;\n",
       "    }\n",
       "\n",
       "    .dataframe thead th {\n",
       "        text-align: right;\n",
       "    }\n",
       "</style>\n",
       "<table border=\"1\" class=\"dataframe\">\n",
       "  <thead>\n",
       "    <tr style=\"text-align: right;\">\n",
       "      <th></th>\n",
       "      <th>co2</th>\n",
       "    </tr>\n",
       "    <tr>\n",
       "      <th>year</th>\n",
       "      <th></th>\n",
       "    </tr>\n",
       "  </thead>\n",
       "  <tbody>\n",
       "    <tr>\n",
       "      <th>2018-01-01</th>\n",
       "      <td>6.144843e+09</td>\n",
       "    </tr>\n",
       "  </tbody>\n",
       "</table>\n",
       "</div>"
      ],
      "text/plain": [
       "                     co2\n",
       "year                    \n",
       "2018-01-01  6.144843e+09"
      ]
     },
     "execution_count": 67,
     "metadata": {},
     "output_type": "execute_result"
    }
   ],
   "source": [
    "yhat_df"
   ]
  },
  {
   "cell_type": "code",
   "execution_count": 68,
   "id": "da3e585f",
   "metadata": {},
   "outputs": [
    {
     "name": "stdout",
     "output_type": "stream",
     "text": [
      "co2 -- RMSE: 719961775\n"
     ]
    },
    {
     "data": {
      "image/png": "[encoded data removed]",
      "text/plain": [
       "<Figure size 864x288 with 1 Axes>"
      ]
     },
     "metadata": {
      "needs_background": "light"
     },
     "output_type": "display_data"
    }
   ],
   "source": [
    "for col in train.columns:\n",
    "    plot_and_eval(target_var = col)\n",
    "    eval_df = append_eval_df(model_type = 'previous year', target_var = col)"
   ]
  },
  {
   "cell_type": "code",
   "execution_count": 69,
   "id": "4dff08d3",
   "metadata": {},
   "outputs": [
    {
     "data": {
      "text/html": [
       "<div>\n",
       "<style scoped>\n",
       "    .dataframe tbody tr th:only-of-type {\n",
       "        vertical-align: middle;\n",
       "    }\n",
       "\n",
       "    .dataframe tbody tr th {\n",
       "        vertical-align: top;\n",
       "    }\n",
       "\n",
       "    .dataframe thead th {\n",
       "        text-align: right;\n",
       "    }\n",
       "</style>\n",
       "<table border=\"1\" class=\"dataframe\">\n",
       "  <thead>\n",
       "    <tr style=\"text-align: right;\">\n",
       "      <th></th>\n",
       "      <th>model_type</th>\n",
       "      <th>target_var</th>\n",
       "      <th>rmse</th>\n",
       "    </tr>\n",
       "  </thead>\n",
       "  <tbody>\n",
       "    <tr>\n",
       "      <th>10</th>\n",
       "      <td>Holts</td>\n",
       "      <td>co2</td>\n",
       "      <td>410284536.0</td>\n",
       "    </tr>\n",
       "  </tbody>\n",
       "</table>\n",
       "</div>"
      ],
      "text/plain": [
       "   model_type target_var         rmse\n",
       "10      Holts        co2  410284536.0"
      ]
     },
     "execution_count": 69,
     "metadata": {},
     "output_type": "execute_result"
    }
   ],
   "source": [
    "# get the min rmse for each variable\n",
    "\n",
    "min_rmse_co2 = eval_df.groupby('target_var')['rmse'].min()[0]\n",
    "\n",
    "\n",
    "# filter only the rows that match those rmse to find out \n",
    "# which models are best thus far\n",
    "eval_df[((eval_df.rmse == min_rmse_co2)\n",
    "        )]"
   ]
  },
  {
   "cell_type": "code",
   "execution_count": 70,
   "id": "d1b9b84d",
   "metadata": {},
   "outputs": [
    {
     "data": {
      "image/png": "[encoded data removed]",
      "text/plain": [
       "<Figure size 864x432 with 1 Axes>"
      ]
     },
     "metadata": {
      "needs_background": "light"
     },
     "output_type": "display_data"
    }
   ],
   "source": [
    "for col in train.columns:\n",
    "    x = eval_df[eval_df.target_var == col]['model_type']\n",
    "    y = eval_df[eval_df.target_var == col]['rmse']\n",
    "    plt.figure(figsize=(12, 6))\n",
    "    sns.barplot(x, y)\n",
    "    plt.title(col)\n",
    "    plt.ylabel('RMSE')\n",
    "    plt.xticks(rotation=45)\n",
    "    plt.show()"
   ]
  },
  {
   "cell_type": "code",
   "execution_count": 71,
   "id": "98ccbff6",
   "metadata": {},
   "outputs": [],
   "source": [
    "yhat_df = validate + train.diff(30).mean()\n",
    "yhat_df.index = test.index"
   ]
  },
  {
   "cell_type": "code",
   "execution_count": 72,
   "id": "d2efd41d",
   "metadata": {},
   "outputs": [],
   "source": [
    "rmse_co2 = round(sqrt(mean_squared_error(test['co2'], yhat_df['co2'])), 0)"
   ]
  },
  {
   "cell_type": "code",
   "execution_count": null,
   "id": "2e4492ba",
   "metadata": {},
   "outputs": [],
   "source": [
    "def plot_and_eval(target_var):\n",
    "    plt.figure(figsize = (12,4))\n",
    "    plt.plot(train[target_var], label = 'Train', linewidth = 1)\n",
    "    plt.plot(validate[target_var], label = 'Validate', linewidth = 1)\n",
    "    plt.plot(test[target_var], label = 'Test', linewidth = 1)\n",
    "    plt.plot(yhat_df[target_var], alpha = .5)\n",
    "    plt.title(target_var)\n",
    "    plt.show()"
   ]
  },
  {
   "cell_type": "code",
   "execution_count": null,
   "id": "b663de3c",
   "metadata": {},
   "outputs": [],
   "source": [
    "print(\"rmse - co2: \", rmse_co2)\n",
    "\n",
    "for col in train.columns:\n",
    "    plot_and_eval(col)"
   ]
  },
  {
   "cell_type": "code",
   "execution_count": null,
   "id": "0725f7b5",
   "metadata": {},
   "outputs": [],
   "source": [
    "my_color = 'red'\n",
    "sentence = (f'I love {my_color} so much!')\n",
    "love_red = (sentence * 2)\n",
    "print(love_red)"
   ]
  },
  {
   "cell_type": "code",
   "execution_count": null,
   "id": "fa6c1ccf",
   "metadata": {},
   "outputs": [],
   "source": []
  }
 ],
 "metadata": {
  "kernelspec": {
   "display_name": "Python 3",
   "language": "python",
   "name": "python3"
  },
  "language_info": {
   "codemirror_mode": {
    "name": "ipython",
    "version": 3
   },
   "file_extension": ".py",
   "mimetype": "text/x-python",
   "name": "python",
   "nbconvert_exporter": "python",
   "pygments_lexer": "ipython3",
   "version": "3.8.8"
  }
 },
 "nbformat": 4,
 "nbformat_minor": 5
}
