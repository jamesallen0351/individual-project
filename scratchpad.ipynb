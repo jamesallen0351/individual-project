{
 "cells": [
  {
   "cell_type": "markdown",
   "id": "76956bbb",
   "metadata": {},
   "source": [
    "# Scratchpad"
   ]
  },
  {
   "cell_type": "code",
   "execution_count": 1,
   "id": "c57c180d",
   "metadata": {},
   "outputs": [],
   "source": [
    "# imports \n",
    "\n",
    "import pandas as pd\n",
    "import numpy as np\n",
    "import os\n",
    "\n",
    "import matplotlib.pyplot as plt\n",
    "from matplotlib import cm\n",
    "import seaborn as sns\n",
    "\n",
    "import warnings\n",
    "warnings.filterwarnings(\"ignore\")"
   ]
  },
  {
   "cell_type": "code",
   "execution_count": 2,
   "id": "211740ba",
   "metadata": {},
   "outputs": [],
   "source": [
    "df = pd.read_csv('co2-data.csv')"
   ]
  },
  {
   "cell_type": "code",
   "execution_count": 3,
   "id": "80650cee",
   "metadata": {},
   "outputs": [],
   "source": [
    "us_df = df[df['country'] == \"United States\"]"
   ]
  },
  {
   "cell_type": "code",
   "execution_count": 4,
   "id": "2fc67db5",
   "metadata": {},
   "outputs": [
    {
     "name": "stdout",
     "output_type": "stream",
     "text": [
      "<class 'pandas.core.frame.DataFrame'>\n",
      "Int64Index: 220 entries, 23305 to 23524\n",
      "Data columns (total 58 columns):\n",
      " #   Column                               Non-Null Count  Dtype  \n",
      "---  ------                               --------------  -----  \n",
      " 0   iso_code                             220 non-null    object \n",
      " 1   country                              220 non-null    object \n",
      " 2   year                                 220 non-null    int64  \n",
      " 3   co2                                  220 non-null    float64\n",
      " 4   consumption_co2                      29 non-null     float64\n",
      " 5   co2_growth_prct                      219 non-null    float64\n",
      " 6   co2_growth_abs                       219 non-null    float64\n",
      " 7   trade_co2                            29 non-null     float64\n",
      " 8   co2_per_capita                       220 non-null    float64\n",
      " 9   consumption_co2_per_capita           29 non-null     float64\n",
      " 10  share_global_co2                     220 non-null    float64\n",
      " 11  cumulative_co2                       220 non-null    float64\n",
      " 12  share_global_cumulative_co2          220 non-null    float64\n",
      " 13  co2_per_gdp                          199 non-null    float64\n",
      " 14  consumption_co2_per_gdp              29 non-null     float64\n",
      " 15  co2_per_unit_energy                  55 non-null     float64\n",
      " 16  coal_co2                             220 non-null    float64\n",
      " 17  cement_co2                           120 non-null    float64\n",
      " 18  flaring_co2                          70 non-null     float64\n",
      " 19  gas_co2                              138 non-null    float64\n",
      " 20  oil_co2                              160 non-null    float64\n",
      " 21  other_industry_co2                   30 non-null     float64\n",
      " 22  cement_co2_per_capita                120 non-null    float64\n",
      " 23  coal_co2_per_capita                  220 non-null    float64\n",
      " 24  flaring_co2_per_capita               70 non-null     float64\n",
      " 25  gas_co2_per_capita                   138 non-null    float64\n",
      " 26  oil_co2_per_capita                   160 non-null    float64\n",
      " 27  other_co2_per_capita                 30 non-null     float64\n",
      " 28  trade_co2_share                      29 non-null     float64\n",
      " 29  share_global_cement_co2              120 non-null    float64\n",
      " 30  share_global_coal_co2                220 non-null    float64\n",
      " 31  share_global_flaring_co2             70 non-null     float64\n",
      " 32  share_global_gas_co2                 138 non-null    float64\n",
      " 33  share_global_oil_co2                 160 non-null    float64\n",
      " 34  share_global_other_co2               30 non-null     float64\n",
      " 35  cumulative_cement_co2                120 non-null    float64\n",
      " 36  cumulative_coal_co2                  220 non-null    float64\n",
      " 37  cumulative_flaring_co2               70 non-null     float64\n",
      " 38  cumulative_gas_co2                   138 non-null    float64\n",
      " 39  cumulative_oil_co2                   160 non-null    float64\n",
      " 40  cumulative_other_co2                 30 non-null     float64\n",
      " 41  share_global_cumulative_cement_co2   120 non-null    float64\n",
      " 42  share_global_cumulative_coal_co2     220 non-null    float64\n",
      " 43  share_global_cumulative_flaring_co2  70 non-null     float64\n",
      " 44  share_global_cumulative_gas_co2      138 non-null    float64\n",
      " 45  share_global_cumulative_oil_co2      160 non-null    float64\n",
      " 46  share_global_cumulative_other_co2    30 non-null     float64\n",
      " 47  total_ghg                            27 non-null     float64\n",
      " 48  ghg_per_capita                       27 non-null     float64\n",
      " 49  methane                              27 non-null     float64\n",
      " 50  methane_per_capita                   27 non-null     float64\n",
      " 51  nitrous_oxide                        27 non-null     float64\n",
      " 52  nitrous_oxide_per_capita             27 non-null     float64\n",
      " 53  population                           220 non-null    float64\n",
      " 54  gdp                                  199 non-null    float64\n",
      " 55  primary_energy_consumption           55 non-null     float64\n",
      " 56  energy_per_capita                    55 non-null     float64\n",
      " 57  energy_per_gdp                       52 non-null     float64\n",
      "dtypes: float64(55), int64(1), object(2)\n",
      "memory usage: 101.4+ KB\n"
     ]
    }
   ],
   "source": [
    "us_df.info()"
   ]
  },
  {
   "cell_type": "code",
   "execution_count": 5,
   "id": "cfe78928",
   "metadata": {},
   "outputs": [
    {
     "data": {
      "text/plain": [
       "iso_code                                 0\n",
       "country                                  0\n",
       "year                                     0\n",
       "co2                                      0\n",
       "consumption_co2                        191\n",
       "co2_growth_prct                          1\n",
       "co2_growth_abs                           1\n",
       "trade_co2                              191\n",
       "co2_per_capita                           0\n",
       "consumption_co2_per_capita             191\n",
       "share_global_co2                         0\n",
       "cumulative_co2                           0\n",
       "share_global_cumulative_co2              0\n",
       "co2_per_gdp                             21\n",
       "consumption_co2_per_gdp                191\n",
       "co2_per_unit_energy                    165\n",
       "coal_co2                                 0\n",
       "cement_co2                             100\n",
       "flaring_co2                            150\n",
       "gas_co2                                 82\n",
       "oil_co2                                 60\n",
       "other_industry_co2                     190\n",
       "cement_co2_per_capita                  100\n",
       "coal_co2_per_capita                      0\n",
       "flaring_co2_per_capita                 150\n",
       "gas_co2_per_capita                      82\n",
       "oil_co2_per_capita                      60\n",
       "other_co2_per_capita                   190\n",
       "trade_co2_share                        191\n",
       "share_global_cement_co2                100\n",
       "share_global_coal_co2                    0\n",
       "share_global_flaring_co2               150\n",
       "share_global_gas_co2                    82\n",
       "share_global_oil_co2                    60\n",
       "share_global_other_co2                 190\n",
       "cumulative_cement_co2                  100\n",
       "cumulative_coal_co2                      0\n",
       "cumulative_flaring_co2                 150\n",
       "cumulative_gas_co2                      82\n",
       "cumulative_oil_co2                      60\n",
       "cumulative_other_co2                   190\n",
       "share_global_cumulative_cement_co2     100\n",
       "share_global_cumulative_coal_co2         0\n",
       "share_global_cumulative_flaring_co2    150\n",
       "share_global_cumulative_gas_co2         82\n",
       "share_global_cumulative_oil_co2         60\n",
       "share_global_cumulative_other_co2      190\n",
       "total_ghg                              193\n",
       "ghg_per_capita                         193\n",
       "methane                                193\n",
       "methane_per_capita                     193\n",
       "nitrous_oxide                          193\n",
       "nitrous_oxide_per_capita               193\n",
       "population                               0\n",
       "gdp                                     21\n",
       "primary_energy_consumption             165\n",
       "energy_per_capita                      165\n",
       "energy_per_gdp                         168\n",
       "dtype: int64"
      ]
     },
     "execution_count": 5,
     "metadata": {},
     "output_type": "execute_result"
    }
   ],
   "source": [
    "us_df.isna().sum()"
   ]
  },
  {
   "cell_type": "markdown",
   "id": "2803642d",
   "metadata": {},
   "source": [
    "# Initital Thoughts\n",
    "- I want to use the United States co2 data\n",
    "- It looks like I can set a datetime index ?\n",
    "- I will need to take care of null values and drop unneeded columns\n",
    "- I have a population column that I can use in comparison / percantage\n",
    "- I want to look at trends / impacts of co2 emmissions in the US\n",
    "- I want to compare these trends / impacts to other values in my data to see if they are related / correlation\n",
    "- I want to see if I can predict new trends /identifiers that contribute to increasing / decreasing co2 levels\n",
    "- Impact of alternative fuel sources / wind / water / sun / electric ?\n",
    "- population and gdp for US compared to other countries?\n",
    "- which countries are trending up / down : more / less carbon nuetral \n",
    "- does gdp relate to co2 emmissions ? or does it help lower?\n",
    "- I think I will need to do some explore and modeling on the US first then loop back and add more countries for comparison\n",
    "\n",
    "### What is my goal?\n",
    "- Find drivers for co2 emissions \n",
    "- Increases / Decreases\n",
    "- Relation or direct relation\n",
    "- Use these drivers to predict future co2 emissions by country "
   ]
  },
  {
   "cell_type": "code",
   "execution_count": 6,
   "id": "e8635a5c",
   "metadata": {},
   "outputs": [
    {
     "data": {
      "text/plain": [
       "<AxesSubplot:>"
      ]
     },
     "execution_count": 6,
     "metadata": {},
     "output_type": "execute_result"
    },
    {
     "data": {
      "image/png": "[encoded data removed]",
      "text/plain": [
       "<Figure size 432x288 with 1 Axes>"
      ]
     },
     "metadata": {
      "needs_background": "light"
     },
     "output_type": "display_data"
    }
   ],
   "source": [
    "us_df.co2_growth_prct.plot()"
   ]
  },
  {
   "cell_type": "code",
   "execution_count": 7,
   "id": "11e8db0f",
   "metadata": {},
   "outputs": [
    {
     "data": {
      "text/plain": [
       "<AxesSubplot:>"
      ]
     },
     "execution_count": 7,
     "metadata": {},
     "output_type": "execute_result"
    },
    {
     "data": {
      "image/png": "[encoded data removed]",
      "text/plain": [
       "<Figure size 432x288 with 1 Axes>"
      ]
     },
     "metadata": {
      "needs_background": "light"
     },
     "output_type": "display_data"
    }
   ],
   "source": [
    "us_df.year.plot()"
   ]
  },
  {
   "cell_type": "code",
   "execution_count": 9,
   "id": "0c8dbdd6",
   "metadata": {},
   "outputs": [
    {
     "data": {
      "text/html": [
       "<div>\n",
       "<style scoped>\n",
       "    .dataframe tbody tr th:only-of-type {\n",
       "        vertical-align: middle;\n",
       "    }\n",
       "\n",
       "    .dataframe tbody tr th {\n",
       "        vertical-align: top;\n",
       "    }\n",
       "\n",
       "    .dataframe thead th {\n",
       "        text-align: right;\n",
       "    }\n",
       "</style>\n",
       "<table border=\"1\" class=\"dataframe\">\n",
       "  <thead>\n",
       "    <tr style=\"text-align: right;\">\n",
       "      <th></th>\n",
       "      <th>iso_code</th>\n",
       "      <th>country</th>\n",
       "      <th>year</th>\n",
       "      <th>co2</th>\n",
       "      <th>consumption_co2</th>\n",
       "      <th>co2_growth_prct</th>\n",
       "      <th>co2_growth_abs</th>\n",
       "      <th>trade_co2</th>\n",
       "      <th>co2_per_capita</th>\n",
       "      <th>consumption_co2_per_capita</th>\n",
       "      <th>...</th>\n",
       "      <th>ghg_per_capita</th>\n",
       "      <th>methane</th>\n",
       "      <th>methane_per_capita</th>\n",
       "      <th>nitrous_oxide</th>\n",
       "      <th>nitrous_oxide_per_capita</th>\n",
       "      <th>population</th>\n",
       "      <th>gdp</th>\n",
       "      <th>primary_energy_consumption</th>\n",
       "      <th>energy_per_capita</th>\n",
       "      <th>energy_per_gdp</th>\n",
       "    </tr>\n",
       "  </thead>\n",
       "  <tbody>\n",
       "    <tr>\n",
       "      <th>0</th>\n",
       "      <td>AFG</td>\n",
       "      <td>Afghanistan</td>\n",
       "      <td>1949</td>\n",
       "      <td>0.015</td>\n",
       "      <td>NaN</td>\n",
       "      <td>NaN</td>\n",
       "      <td>NaN</td>\n",
       "      <td>NaN</td>\n",
       "      <td>0.002</td>\n",
       "      <td>NaN</td>\n",
       "      <td>...</td>\n",
       "      <td>NaN</td>\n",
       "      <td>NaN</td>\n",
       "      <td>NaN</td>\n",
       "      <td>NaN</td>\n",
       "      <td>NaN</td>\n",
       "      <td>7624058.0</td>\n",
       "      <td>NaN</td>\n",
       "      <td>NaN</td>\n",
       "      <td>NaN</td>\n",
       "      <td>NaN</td>\n",
       "    </tr>\n",
       "    <tr>\n",
       "      <th>1</th>\n",
       "      <td>AFG</td>\n",
       "      <td>Afghanistan</td>\n",
       "      <td>1950</td>\n",
       "      <td>0.084</td>\n",
       "      <td>NaN</td>\n",
       "      <td>475.0</td>\n",
       "      <td>0.070</td>\n",
       "      <td>NaN</td>\n",
       "      <td>0.011</td>\n",
       "      <td>NaN</td>\n",
       "      <td>...</td>\n",
       "      <td>NaN</td>\n",
       "      <td>NaN</td>\n",
       "      <td>NaN</td>\n",
       "      <td>NaN</td>\n",
       "      <td>NaN</td>\n",
       "      <td>7752117.0</td>\n",
       "      <td>9.421400e+09</td>\n",
       "      <td>NaN</td>\n",
       "      <td>NaN</td>\n",
       "      <td>NaN</td>\n",
       "    </tr>\n",
       "    <tr>\n",
       "      <th>2</th>\n",
       "      <td>AFG</td>\n",
       "      <td>Afghanistan</td>\n",
       "      <td>1951</td>\n",
       "      <td>0.092</td>\n",
       "      <td>NaN</td>\n",
       "      <td>8.7</td>\n",
       "      <td>0.007</td>\n",
       "      <td>NaN</td>\n",
       "      <td>0.012</td>\n",
       "      <td>NaN</td>\n",
       "      <td>...</td>\n",
       "      <td>NaN</td>\n",
       "      <td>NaN</td>\n",
       "      <td>NaN</td>\n",
       "      <td>NaN</td>\n",
       "      <td>NaN</td>\n",
       "      <td>7840151.0</td>\n",
       "      <td>9.692280e+09</td>\n",
       "      <td>NaN</td>\n",
       "      <td>NaN</td>\n",
       "      <td>NaN</td>\n",
       "    </tr>\n",
       "    <tr>\n",
       "      <th>3</th>\n",
       "      <td>AFG</td>\n",
       "      <td>Afghanistan</td>\n",
       "      <td>1952</td>\n",
       "      <td>0.092</td>\n",
       "      <td>NaN</td>\n",
       "      <td>0.0</td>\n",
       "      <td>0.000</td>\n",
       "      <td>NaN</td>\n",
       "      <td>0.012</td>\n",
       "      <td>NaN</td>\n",
       "      <td>...</td>\n",
       "      <td>NaN</td>\n",
       "      <td>NaN</td>\n",
       "      <td>NaN</td>\n",
       "      <td>NaN</td>\n",
       "      <td>NaN</td>\n",
       "      <td>7935996.0</td>\n",
       "      <td>1.001732e+10</td>\n",
       "      <td>NaN</td>\n",
       "      <td>NaN</td>\n",
       "      <td>NaN</td>\n",
       "    </tr>\n",
       "    <tr>\n",
       "      <th>4</th>\n",
       "      <td>AFG</td>\n",
       "      <td>Afghanistan</td>\n",
       "      <td>1953</td>\n",
       "      <td>0.106</td>\n",
       "      <td>NaN</td>\n",
       "      <td>16.0</td>\n",
       "      <td>0.015</td>\n",
       "      <td>NaN</td>\n",
       "      <td>0.013</td>\n",
       "      <td>NaN</td>\n",
       "      <td>...</td>\n",
       "      <td>NaN</td>\n",
       "      <td>NaN</td>\n",
       "      <td>NaN</td>\n",
       "      <td>NaN</td>\n",
       "      <td>NaN</td>\n",
       "      <td>8039684.0</td>\n",
       "      <td>1.063052e+10</td>\n",
       "      <td>NaN</td>\n",
       "      <td>NaN</td>\n",
       "      <td>NaN</td>\n",
       "    </tr>\n",
       "  </tbody>\n",
       "</table>\n",
       "<p>5 rows × 58 columns</p>\n",
       "</div>"
      ],
      "text/plain": [
       "  iso_code      country  year    co2  consumption_co2  co2_growth_prct  \\\n",
       "0      AFG  Afghanistan  1949  0.015              NaN              NaN   \n",
       "1      AFG  Afghanistan  1950  0.084              NaN            475.0   \n",
       "2      AFG  Afghanistan  1951  0.092              NaN              8.7   \n",
       "3      AFG  Afghanistan  1952  0.092              NaN              0.0   \n",
       "4      AFG  Afghanistan  1953  0.106              NaN             16.0   \n",
       "\n",
       "   co2_growth_abs  trade_co2  co2_per_capita  consumption_co2_per_capita  ...  \\\n",
       "0             NaN        NaN           0.002                         NaN  ...   \n",
       "1           0.070        NaN           0.011                         NaN  ...   \n",
       "2           0.007        NaN           0.012                         NaN  ...   \n",
       "3           0.000        NaN           0.012                         NaN  ...   \n",
       "4           0.015        NaN           0.013                         NaN  ...   \n",
       "\n",
       "   ghg_per_capita  methane  methane_per_capita  nitrous_oxide  \\\n",
       "0             NaN      NaN                 NaN            NaN   \n",
       "1             NaN      NaN                 NaN            NaN   \n",
       "2             NaN      NaN                 NaN            NaN   \n",
       "3             NaN      NaN                 NaN            NaN   \n",
       "4             NaN      NaN                 NaN            NaN   \n",
       "\n",
       "   nitrous_oxide_per_capita  population           gdp  \\\n",
       "0                       NaN   7624058.0           NaN   \n",
       "1                       NaN   7752117.0  9.421400e+09   \n",
       "2                       NaN   7840151.0  9.692280e+09   \n",
       "3                       NaN   7935996.0  1.001732e+10   \n",
       "4                       NaN   8039684.0  1.063052e+10   \n",
       "\n",
       "   primary_energy_consumption  energy_per_capita  energy_per_gdp  \n",
       "0                         NaN                NaN             NaN  \n",
       "1                         NaN                NaN             NaN  \n",
       "2                         NaN                NaN             NaN  \n",
       "3                         NaN                NaN             NaN  \n",
       "4                         NaN                NaN             NaN  \n",
       "\n",
       "[5 rows x 58 columns]"
      ]
     },
     "execution_count": 9,
     "metadata": {},
     "output_type": "execute_result"
    }
   ],
   "source": [
    "df.head() # I need to figure out how to list all the countries in this data set"
   ]
  },
  {
   "cell_type": "code",
   "execution_count": 16,
   "id": "205cf435",
   "metadata": {},
   "outputs": [
    {
     "data": {
      "text/plain": [
       "239"
      ]
     },
     "execution_count": 16,
     "metadata": {},
     "output_type": "execute_result"
    }
   ],
   "source": [
    "df.country.nunique() # there are 239 countries listed"
   ]
  },
  {
   "cell_type": "code",
   "execution_count": null,
   "id": "f5790380",
   "metadata": {},
   "outputs": [],
   "source": []
  }
 ],
 "metadata": {
  "kernelspec": {
   "display_name": "Python 3",
   "language": "python",
   "name": "python3"
  },
  "language_info": {
   "codemirror_mode": {
    "name": "ipython",
    "version": 3
   },
   "file_extension": ".py",
   "mimetype": "text/x-python",
   "name": "python",
   "nbconvert_exporter": "python",
   "pygments_lexer": "ipython3",
   "version": "3.8.8"
  }
 },
 "nbformat": 4,
 "nbformat_minor": 5
}
