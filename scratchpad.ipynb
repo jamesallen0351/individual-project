{
 "cells": [
  {
   "cell_type": "markdown",
   "id": "aae8b4b4",
   "metadata": {},
   "source": [
    "# Scratchpad"
   ]
  },
  {
   "cell_type": "code",
   "execution_count": 1,
   "id": "b2c197ed",
   "metadata": {},
   "outputs": [],
   "source": [
    "# imports \n",
    "\n",
    "import pandas as pd\n",
    "import numpy as np\n",
    "import os\n",
    "\n",
    "import warnings\n",
    "warnings.filterwarnings(\"ignore\")"
   ]
  },
  {
   "cell_type": "code",
   "execution_count": 2,
   "id": "3e7497ca",
   "metadata": {},
   "outputs": [],
   "source": [
    "df = pd.read_csv('co2-data.csv')"
   ]
  },
  {
   "cell_type": "code",
   "execution_count": 3,
   "id": "50b49ec9",
   "metadata": {},
   "outputs": [],
   "source": [
    "df = df[df['country'] == \"United States\"]"
   ]
  },
  {
   "cell_type": "code",
   "execution_count": 4,
   "id": "c38be87d",
   "metadata": {},
   "outputs": [
    {
     "name": "stdout",
     "output_type": "stream",
     "text": [
      "<class 'pandas.core.frame.DataFrame'>\n",
      "Int64Index: 220 entries, 23305 to 23524\n",
      "Data columns (total 58 columns):\n",
      " #   Column                               Non-Null Count  Dtype  \n",
      "---  ------                               --------------  -----  \n",
      " 0   iso_code                             220 non-null    object \n",
      " 1   country                              220 non-null    object \n",
      " 2   year                                 220 non-null    int64  \n",
      " 3   co2                                  220 non-null    float64\n",
      " 4   consumption_co2                      29 non-null     float64\n",
      " 5   co2_growth_prct                      219 non-null    float64\n",
      " 6   co2_growth_abs                       219 non-null    float64\n",
      " 7   trade_co2                            29 non-null     float64\n",
      " 8   co2_per_capita                       220 non-null    float64\n",
      " 9   consumption_co2_per_capita           29 non-null     float64\n",
      " 10  share_global_co2                     220 non-null    float64\n",
      " 11  cumulative_co2                       220 non-null    float64\n",
      " 12  share_global_cumulative_co2          220 non-null    float64\n",
      " 13  co2_per_gdp                          199 non-null    float64\n",
      " 14  consumption_co2_per_gdp              29 non-null     float64\n",
      " 15  co2_per_unit_energy                  55 non-null     float64\n",
      " 16  coal_co2                             220 non-null    float64\n",
      " 17  cement_co2                           120 non-null    float64\n",
      " 18  flaring_co2                          70 non-null     float64\n",
      " 19  gas_co2                              138 non-null    float64\n",
      " 20  oil_co2                              160 non-null    float64\n",
      " 21  other_industry_co2                   30 non-null     float64\n",
      " 22  cement_co2_per_capita                120 non-null    float64\n",
      " 23  coal_co2_per_capita                  220 non-null    float64\n",
      " 24  flaring_co2_per_capita               70 non-null     float64\n",
      " 25  gas_co2_per_capita                   138 non-null    float64\n",
      " 26  oil_co2_per_capita                   160 non-null    float64\n",
      " 27  other_co2_per_capita                 30 non-null     float64\n",
      " 28  trade_co2_share                      29 non-null     float64\n",
      " 29  share_global_cement_co2              120 non-null    float64\n",
      " 30  share_global_coal_co2                220 non-null    float64\n",
      " 31  share_global_flaring_co2             70 non-null     float64\n",
      " 32  share_global_gas_co2                 138 non-null    float64\n",
      " 33  share_global_oil_co2                 160 non-null    float64\n",
      " 34  share_global_other_co2               30 non-null     float64\n",
      " 35  cumulative_cement_co2                120 non-null    float64\n",
      " 36  cumulative_coal_co2                  220 non-null    float64\n",
      " 37  cumulative_flaring_co2               70 non-null     float64\n",
      " 38  cumulative_gas_co2                   138 non-null    float64\n",
      " 39  cumulative_oil_co2                   160 non-null    float64\n",
      " 40  cumulative_other_co2                 30 non-null     float64\n",
      " 41  share_global_cumulative_cement_co2   120 non-null    float64\n",
      " 42  share_global_cumulative_coal_co2     220 non-null    float64\n",
      " 43  share_global_cumulative_flaring_co2  70 non-null     float64\n",
      " 44  share_global_cumulative_gas_co2      138 non-null    float64\n",
      " 45  share_global_cumulative_oil_co2      160 non-null    float64\n",
      " 46  share_global_cumulative_other_co2    30 non-null     float64\n",
      " 47  total_ghg                            27 non-null     float64\n",
      " 48  ghg_per_capita                       27 non-null     float64\n",
      " 49  methane                              27 non-null     float64\n",
      " 50  methane_per_capita                   27 non-null     float64\n",
      " 51  nitrous_oxide                        27 non-null     float64\n",
      " 52  nitrous_oxide_per_capita             27 non-null     float64\n",
      " 53  population                           220 non-null    float64\n",
      " 54  gdp                                  199 non-null    float64\n",
      " 55  primary_energy_consumption           55 non-null     float64\n",
      " 56  energy_per_capita                    55 non-null     float64\n",
      " 57  energy_per_gdp                       52 non-null     float64\n",
      "dtypes: float64(55), int64(1), object(2)\n",
      "memory usage: 101.4+ KB\n"
     ]
    }
   ],
   "source": [
    "df.info()"
   ]
  },
  {
   "cell_type": "code",
   "execution_count": 5,
   "id": "e6d18c2a",
   "metadata": {},
   "outputs": [
    {
     "data": {
      "text/plain": [
       "iso_code                                 0\n",
       "country                                  0\n",
       "year                                     0\n",
       "co2                                      0\n",
       "consumption_co2                        191\n",
       "co2_growth_prct                          1\n",
       "co2_growth_abs                           1\n",
       "trade_co2                              191\n",
       "co2_per_capita                           0\n",
       "consumption_co2_per_capita             191\n",
       "share_global_co2                         0\n",
       "cumulative_co2                           0\n",
       "share_global_cumulative_co2              0\n",
       "co2_per_gdp                             21\n",
       "consumption_co2_per_gdp                191\n",
       "co2_per_unit_energy                    165\n",
       "coal_co2                                 0\n",
       "cement_co2                             100\n",
       "flaring_co2                            150\n",
       "gas_co2                                 82\n",
       "oil_co2                                 60\n",
       "other_industry_co2                     190\n",
       "cement_co2_per_capita                  100\n",
       "coal_co2_per_capita                      0\n",
       "flaring_co2_per_capita                 150\n",
       "gas_co2_per_capita                      82\n",
       "oil_co2_per_capita                      60\n",
       "other_co2_per_capita                   190\n",
       "trade_co2_share                        191\n",
       "share_global_cement_co2                100\n",
       "share_global_coal_co2                    0\n",
       "share_global_flaring_co2               150\n",
       "share_global_gas_co2                    82\n",
       "share_global_oil_co2                    60\n",
       "share_global_other_co2                 190\n",
       "cumulative_cement_co2                  100\n",
       "cumulative_coal_co2                      0\n",
       "cumulative_flaring_co2                 150\n",
       "cumulative_gas_co2                      82\n",
       "cumulative_oil_co2                      60\n",
       "cumulative_other_co2                   190\n",
       "share_global_cumulative_cement_co2     100\n",
       "share_global_cumulative_coal_co2         0\n",
       "share_global_cumulative_flaring_co2    150\n",
       "share_global_cumulative_gas_co2         82\n",
       "share_global_cumulative_oil_co2         60\n",
       "share_global_cumulative_other_co2      190\n",
       "total_ghg                              193\n",
       "ghg_per_capita                         193\n",
       "methane                                193\n",
       "methane_per_capita                     193\n",
       "nitrous_oxide                          193\n",
       "nitrous_oxide_per_capita               193\n",
       "population                               0\n",
       "gdp                                     21\n",
       "primary_energy_consumption             165\n",
       "energy_per_capita                      165\n",
       "energy_per_gdp                         168\n",
       "dtype: int64"
      ]
     },
     "execution_count": 5,
     "metadata": {},
     "output_type": "execute_result"
    }
   ],
   "source": [
    "df.isna().sum()"
   ]
  },
  {
   "cell_type": "markdown",
   "id": "99068580",
   "metadata": {},
   "source": [
    "# Initital Thoughts\n",
    "- I want to use the United States co2 data\n",
    "- It looks like I can set a datetime index ?\n",
    "- I will need to take care of null values and drop unneeded columns\n",
    "- I have a population column that I can use in comparison / percantage\n",
    "- I want to look at trends / impacts of co2 emmissions in the US\n",
    "- I want to compare these trends / impacts to other values in my data to see if they are related / correlation\n",
    "- I want to see if I can predict new trends /identifiers that contribute to increasing / decreasing co2 levels\n",
    "- Impact of alternative fuel sources / wind / water / sun / electric ?"
   ]
  },
  {
   "cell_type": "code",
   "execution_count": null,
   "id": "be405514",
   "metadata": {},
   "outputs": [],
   "source": []
  }
 ],
 "metadata": {
  "kernelspec": {
   "display_name": "Python 3",
   "language": "python",
   "name": "python3"
  },
  "language_info": {
   "codemirror_mode": {
    "name": "ipython",
    "version": 3
   },
   "file_extension": ".py",
   "mimetype": "text/x-python",
   "name": "python",
   "nbconvert_exporter": "python",
   "pygments_lexer": "ipython3",
   "version": "3.8.8"
  }
 },
 "nbformat": 4,
 "nbformat_minor": 5
}
